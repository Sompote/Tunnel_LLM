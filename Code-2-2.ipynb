{
 "cells": [
  {
   "cell_type": "code",
   "execution_count": 1,
   "metadata": {
    "id": "uL6G28xwyPPN"
   },
   "outputs": [
    {
     "name": "stdout",
     "output_type": "stream",
     "text": [
      "Collecting pandas\n",
      "  Downloading pandas-2.2.2-cp310-cp310-manylinux_2_17_x86_64.manylinux2014_x86_64.whl.metadata (19 kB)\n",
      "Requirement already satisfied: numpy>=1.22.4 in /opt/conda/lib/python3.10/site-packages (from pandas) (1.26.3)\n",
      "Requirement already satisfied: python-dateutil>=2.8.2 in /opt/conda/lib/python3.10/site-packages (from pandas) (2.9.0.post0)\n",
      "Requirement already satisfied: pytz>=2020.1 in /opt/conda/lib/python3.10/site-packages (from pandas) (2023.3.post1)\n",
      "Collecting tzdata>=2022.7 (from pandas)\n",
      "  Downloading tzdata-2024.1-py2.py3-none-any.whl.metadata (1.4 kB)\n",
      "Requirement already satisfied: six>=1.5 in /opt/conda/lib/python3.10/site-packages (from python-dateutil>=2.8.2->pandas) (1.16.0)\n",
      "Downloading pandas-2.2.2-cp310-cp310-manylinux_2_17_x86_64.manylinux2014_x86_64.whl (13.0 MB)\n",
      "\u001b[2K   \u001b[90m━━━━━━━━━━━━━━━━━━━━━━━━━━━━━━━━━━━━━━━━\u001b[0m \u001b[32m13.0/13.0 MB\u001b[0m \u001b[31m29.5 MB/s\u001b[0m eta \u001b[36m0:00:00\u001b[0m00:01\u001b[0m00:01\u001b[0m\n",
      "\u001b[?25hDownloading tzdata-2024.1-py2.py3-none-any.whl (345 kB)\n",
      "\u001b[2K   \u001b[90m━━━━━━━━━━━━━━━━━━━━━━━━━━━━━━━━━━━━━━━━\u001b[0m \u001b[32m345.4/345.4 kB\u001b[0m \u001b[31m31.2 MB/s\u001b[0m eta \u001b[36m0:00:00\u001b[0m\n",
      "\u001b[?25hInstalling collected packages: tzdata, pandas\n",
      "Successfully installed pandas-2.2.2 tzdata-2024.1\n",
      "\u001b[33mWARNING: Running pip as the 'root' user can result in broken permissions and conflicting behaviour with the system package manager. It is recommended to use a virtual environment instead: https://pip.pypa.io/warnings/venv\u001b[0m\u001b[33m\n",
      "\u001b[0mNote: you may need to restart the kernel to use updated packages.\n"
     ]
    }
   ],
   "source": [
    "pip install pandas \n",
    "from sklearn.metrics import f1_score"
   ]
  },
  {
   "cell_type": "code",
   "execution_count": 11,
   "metadata": {},
   "outputs": [
    {
     "name": "stdout",
     "output_type": "stream",
     "text": [
      "Collecting scikit-learn\n",
      "  Downloading scikit_learn-1.5.0-cp310-cp310-manylinux_2_17_x86_64.manylinux2014_x86_64.whl.metadata (11 kB)\n",
      "Requirement already satisfied: numpy>=1.19.5 in /opt/conda/lib/python3.10/site-packages (from scikit-learn) (1.26.3)\n",
      "Collecting scipy>=1.6.0 (from scikit-learn)\n",
      "  Downloading scipy-1.14.0-cp310-cp310-manylinux_2_17_x86_64.manylinux2014_x86_64.whl.metadata (60 kB)\n",
      "\u001b[2K     \u001b[90m━━━━━━━━━━━━━━━━━━━━━━━━━━━━━━━━━━━━━━━━\u001b[0m \u001b[32m60.8/60.8 kB\u001b[0m \u001b[31m2.7 MB/s\u001b[0m eta \u001b[36m0:00:00\u001b[0m\n",
      "\u001b[?25hCollecting joblib>=1.2.0 (from scikit-learn)\n",
      "  Downloading joblib-1.4.2-py3-none-any.whl.metadata (5.4 kB)\n",
      "Collecting threadpoolctl>=3.1.0 (from scikit-learn)\n",
      "  Downloading threadpoolctl-3.5.0-py3-none-any.whl.metadata (13 kB)\n",
      "Downloading scikit_learn-1.5.0-cp310-cp310-manylinux_2_17_x86_64.manylinux2014_x86_64.whl (13.3 MB)\n",
      "\u001b[2K   \u001b[90m━━━━━━━━━━━━━━━━━━━━━━━━━━━━━━━━━━━━━━━━\u001b[0m \u001b[32m13.3/13.3 MB\u001b[0m \u001b[31m27.9 MB/s\u001b[0m eta \u001b[36m0:00:00\u001b[0m00:01\u001b[0m00:01\u001b[0m\n",
      "\u001b[?25hDownloading joblib-1.4.2-py3-none-any.whl (301 kB)\n",
      "\u001b[2K   \u001b[90m━━━━━━━━━━━━━━━━━━━━━━━━━━━━━━━━━━━━━━━━\u001b[0m \u001b[32m301.8/301.8 kB\u001b[0m \u001b[31m29.8 MB/s\u001b[0m eta \u001b[36m0:00:00\u001b[0m\n",
      "\u001b[?25hDownloading scipy-1.14.0-cp310-cp310-manylinux_2_17_x86_64.manylinux2014_x86_64.whl (41.1 MB)\n",
      "\u001b[2K   \u001b[90m━━━━━━━━━━━━━━━━━━━━━━━━━━━━━━━━━━━━━━━━\u001b[0m \u001b[32m41.1/41.1 MB\u001b[0m \u001b[31m45.6 MB/s\u001b[0m eta \u001b[36m0:00:00\u001b[0m00:01\u001b[0m00:01\u001b[0m\n",
      "\u001b[?25hDownloading threadpoolctl-3.5.0-py3-none-any.whl (18 kB)\n",
      "Installing collected packages: threadpoolctl, scipy, joblib, scikit-learn\n",
      "Successfully installed joblib-1.4.2 scikit-learn-1.5.0 scipy-1.14.0 threadpoolctl-3.5.0\n",
      "\u001b[33mWARNING: Running pip as the 'root' user can result in broken permissions and conflicting behaviour with the system package manager. It is recommended to use a virtual environment instead: https://pip.pypa.io/warnings/venv\u001b[0m\u001b[33m\n",
      "\u001b[0mNote: you may need to restart the kernel to use updated packages.\n"
     ]
    }
   ],
   "source": [
    "pip install scikit-learn"
   ]
  },
  {
   "cell_type": "code",
   "execution_count": 2,
   "metadata": {
    "id": "UfMgjX9-yXE6"
   },
   "outputs": [
    {
     "name": "stdout",
     "output_type": "stream",
     "text": [
      "Collecting transformers\n",
      "  Downloading transformers-4.42.3-py3-none-any.whl.metadata (43 kB)\n",
      "\u001b[2K     \u001b[90m━━━━━━━━━━━━━━━━━━━━━━━━━━━━━━━━━━━━━━━━\u001b[0m \u001b[32m43.6/43.6 kB\u001b[0m \u001b[31m1.9 MB/s\u001b[0m eta \u001b[36m0:00:00\u001b[0m\n",
      "\u001b[?25hRequirement already satisfied: filelock in /opt/conda/lib/python3.10/site-packages (from transformers) (3.13.1)\n",
      "Collecting huggingface-hub<1.0,>=0.23.2 (from transformers)\n",
      "  Downloading huggingface_hub-0.23.4-py3-none-any.whl.metadata (12 kB)\n",
      "Requirement already satisfied: numpy<2.0,>=1.17 in /opt/conda/lib/python3.10/site-packages (from transformers) (1.26.3)\n",
      "Requirement already satisfied: packaging>=20.0 in /opt/conda/lib/python3.10/site-packages (from transformers) (23.1)\n",
      "Requirement already satisfied: pyyaml>=5.1 in /opt/conda/lib/python3.10/site-packages (from transformers) (6.0.1)\n",
      "Collecting regex!=2019.12.17 (from transformers)\n",
      "  Downloading regex-2024.5.15-cp310-cp310-manylinux_2_17_x86_64.manylinux2014_x86_64.whl.metadata (40 kB)\n",
      "\u001b[2K     \u001b[90m━━━━━━━━━━━━━━━━━━━━━━━━━━━━━━━━━━━━━━━━\u001b[0m \u001b[32m40.9/40.9 kB\u001b[0m \u001b[31m2.8 MB/s\u001b[0m eta \u001b[36m0:00:00\u001b[0m\n",
      "\u001b[?25hRequirement already satisfied: requests in /opt/conda/lib/python3.10/site-packages (from transformers) (2.31.0)\n",
      "Collecting safetensors>=0.4.1 (from transformers)\n",
      "  Downloading safetensors-0.4.3-cp310-cp310-manylinux_2_17_x86_64.manylinux2014_x86_64.whl.metadata (3.8 kB)\n",
      "Collecting tokenizers<0.20,>=0.19 (from transformers)\n",
      "  Downloading tokenizers-0.19.1-cp310-cp310-manylinux_2_17_x86_64.manylinux2014_x86_64.whl.metadata (6.7 kB)\n",
      "Requirement already satisfied: tqdm>=4.27 in /opt/conda/lib/python3.10/site-packages (from transformers) (4.65.0)\n",
      "Requirement already satisfied: fsspec>=2023.5.0 in /opt/conda/lib/python3.10/site-packages (from huggingface-hub<1.0,>=0.23.2->transformers) (2023.12.2)\n",
      "Requirement already satisfied: typing-extensions>=3.7.4.3 in /opt/conda/lib/python3.10/site-packages (from huggingface-hub<1.0,>=0.23.2->transformers) (4.9.0)\n",
      "Requirement already satisfied: charset-normalizer<4,>=2 in /opt/conda/lib/python3.10/site-packages (from requests->transformers) (2.0.4)\n",
      "Requirement already satisfied: idna<4,>=2.5 in /opt/conda/lib/python3.10/site-packages (from requests->transformers) (3.4)\n",
      "Requirement already satisfied: urllib3<3,>=1.21.1 in /opt/conda/lib/python3.10/site-packages (from requests->transformers) (1.26.18)\n",
      "Requirement already satisfied: certifi>=2017.4.17 in /opt/conda/lib/python3.10/site-packages (from requests->transformers) (2023.11.17)\n",
      "Downloading transformers-4.42.3-py3-none-any.whl (9.3 MB)\n",
      "\u001b[2K   \u001b[90m━━━━━━━━━━━━━━━━━━━━━━━━━━━━━━━━━━━━━━━━\u001b[0m \u001b[32m9.3/9.3 MB\u001b[0m \u001b[31m77.1 MB/s\u001b[0m eta \u001b[36m0:00:00\u001b[0m00:01\u001b[0m00:01\u001b[0m\n",
      "\u001b[?25hDownloading huggingface_hub-0.23.4-py3-none-any.whl (402 kB)\n",
      "\u001b[2K   \u001b[90m━━━━━━━━━━━━━━━━━━━━━━━━━━━━━━━━━━━━━━━━\u001b[0m \u001b[32m402.6/402.6 kB\u001b[0m \u001b[31m39.1 MB/s\u001b[0m eta \u001b[36m0:00:00\u001b[0m\n",
      "\u001b[?25hDownloading regex-2024.5.15-cp310-cp310-manylinux_2_17_x86_64.manylinux2014_x86_64.whl (775 kB)\n",
      "\u001b[2K   \u001b[90m━━━━━━━━━━━━━━━━━━━━━━━━━━━━━━━━━━━━━━━━\u001b[0m \u001b[32m775.1/775.1 kB\u001b[0m \u001b[31m60.2 MB/s\u001b[0m eta \u001b[36m0:00:00\u001b[0m\n",
      "\u001b[?25hDownloading safetensors-0.4.3-cp310-cp310-manylinux_2_17_x86_64.manylinux2014_x86_64.whl (1.2 MB)\n",
      "\u001b[2K   \u001b[90m━━━━━━━━━━━━━━━━━━━━━━━━━━━━━━━━━━━━━━━━\u001b[0m \u001b[32m1.2/1.2 MB\u001b[0m \u001b[31m65.7 MB/s\u001b[0m eta \u001b[36m0:00:00\u001b[0m\n",
      "\u001b[?25hDownloading tokenizers-0.19.1-cp310-cp310-manylinux_2_17_x86_64.manylinux2014_x86_64.whl (3.6 MB)\n",
      "\u001b[2K   \u001b[90m━━━━━━━━━━━━━━━━━━━━━━━━━━━━━━━━━━━━━━━━\u001b[0m \u001b[32m3.6/3.6 MB\u001b[0m \u001b[31m27.6 MB/s\u001b[0m eta \u001b[36m0:00:00\u001b[0m00:01\u001b[0m00:01\u001b[0mm\n",
      "\u001b[?25hInstalling collected packages: safetensors, regex, huggingface-hub, tokenizers, transformers\n",
      "Successfully installed huggingface-hub-0.23.4 regex-2024.5.15 safetensors-0.4.3 tokenizers-0.19.1 transformers-4.42.3\n",
      "\u001b[33mWARNING: Running pip as the 'root' user can result in broken permissions and conflicting behaviour with the system package manager. It is recommended to use a virtual environment instead: https://pip.pypa.io/warnings/venv\u001b[0m\u001b[33m\n",
      "\u001b[0mNote: you may need to restart the kernel to use updated packages.\n"
     ]
    }
   ],
   "source": [
    "pip install transformers"
   ]
  },
  {
   "cell_type": "code",
   "execution_count": 3,
   "metadata": {
    "id": "VqdmywrSyZAC"
   },
   "outputs": [
    {
     "name": "stdout",
     "output_type": "stream",
     "text": [
      "Collecting tf_keras\n",
      "  Downloading tf_keras-2.16.0-py3-none-any.whl.metadata (1.6 kB)\n",
      "Collecting tensorflow<2.17,>=2.16 (from tf_keras)\n",
      "  Downloading tensorflow-2.16.2-cp310-cp310-manylinux_2_17_x86_64.manylinux2014_x86_64.whl.metadata (4.2 kB)\n",
      "Collecting absl-py>=1.0.0 (from tensorflow<2.17,>=2.16->tf_keras)\n",
      "  Downloading absl_py-2.1.0-py3-none-any.whl.metadata (2.3 kB)\n",
      "Requirement already satisfied: astunparse>=1.6.0 in /opt/conda/lib/python3.10/site-packages (from tensorflow<2.17,>=2.16->tf_keras) (1.6.3)\n",
      "Collecting flatbuffers>=23.5.26 (from tensorflow<2.17,>=2.16->tf_keras)\n",
      "  Downloading flatbuffers-24.3.25-py2.py3-none-any.whl.metadata (850 bytes)\n",
      "Collecting gast!=0.5.0,!=0.5.1,!=0.5.2,>=0.2.1 (from tensorflow<2.17,>=2.16->tf_keras)\n",
      "  Downloading gast-0.6.0.tar.gz (27 kB)\n",
      "  Preparing metadata (setup.py) ... \u001b[?25ldone\n",
      "\u001b[?25hCollecting google-pasta>=0.1.1 (from tensorflow<2.17,>=2.16->tf_keras)\n",
      "  Downloading google_pasta-0.2.0-py3-none-any.whl.metadata (814 bytes)\n",
      "Collecting h5py>=3.10.0 (from tensorflow<2.17,>=2.16->tf_keras)\n",
      "  Downloading h5py-3.11.0-cp310-cp310-manylinux_2_17_x86_64.manylinux2014_x86_64.whl.metadata (2.5 kB)\n",
      "Collecting libclang>=13.0.0 (from tensorflow<2.17,>=2.16->tf_keras)\n",
      "  Downloading libclang-18.1.1-py2.py3-none-manylinux2010_x86_64.whl.metadata (5.2 kB)\n",
      "Collecting ml-dtypes~=0.3.1 (from tensorflow<2.17,>=2.16->tf_keras)\n",
      "  Downloading ml_dtypes-0.3.2-cp310-cp310-manylinux_2_17_x86_64.manylinux2014_x86_64.whl.metadata (20 kB)\n",
      "Collecting opt-einsum>=2.3.2 (from tensorflow<2.17,>=2.16->tf_keras)\n",
      "  Downloading opt_einsum-3.3.0-py3-none-any.whl.metadata (6.5 kB)\n",
      "Requirement already satisfied: packaging in /opt/conda/lib/python3.10/site-packages (from tensorflow<2.17,>=2.16->tf_keras) (23.1)\n",
      "Collecting protobuf!=4.21.0,!=4.21.1,!=4.21.2,!=4.21.3,!=4.21.4,!=4.21.5,<5.0.0dev,>=3.20.3 (from tensorflow<2.17,>=2.16->tf_keras)\n",
      "  Downloading protobuf-4.25.3-cp37-abi3-manylinux2014_x86_64.whl.metadata (541 bytes)\n",
      "Requirement already satisfied: requests<3,>=2.21.0 in /opt/conda/lib/python3.10/site-packages (from tensorflow<2.17,>=2.16->tf_keras) (2.31.0)\n",
      "Requirement already satisfied: setuptools in /opt/conda/lib/python3.10/site-packages (from tensorflow<2.17,>=2.16->tf_keras) (68.2.2)\n",
      "Requirement already satisfied: six>=1.12.0 in /opt/conda/lib/python3.10/site-packages (from tensorflow<2.17,>=2.16->tf_keras) (1.16.0)\n",
      "Collecting termcolor>=1.1.0 (from tensorflow<2.17,>=2.16->tf_keras)\n",
      "  Downloading termcolor-2.4.0-py3-none-any.whl.metadata (6.1 kB)\n",
      "Requirement already satisfied: typing-extensions>=3.6.6 in /opt/conda/lib/python3.10/site-packages (from tensorflow<2.17,>=2.16->tf_keras) (4.9.0)\n",
      "Collecting wrapt>=1.11.0 (from tensorflow<2.17,>=2.16->tf_keras)\n",
      "  Downloading wrapt-1.16.0-cp310-cp310-manylinux_2_5_x86_64.manylinux1_x86_64.manylinux_2_17_x86_64.manylinux2014_x86_64.whl.metadata (6.6 kB)\n",
      "Collecting grpcio<2.0,>=1.24.3 (from tensorflow<2.17,>=2.16->tf_keras)\n",
      "  Downloading grpcio-1.64.1-cp310-cp310-manylinux_2_17_x86_64.manylinux2014_x86_64.whl.metadata (3.3 kB)\n",
      "Collecting tensorboard<2.17,>=2.16 (from tensorflow<2.17,>=2.16->tf_keras)\n",
      "  Downloading tensorboard-2.16.2-py3-none-any.whl.metadata (1.6 kB)\n",
      "Collecting keras>=3.0.0 (from tensorflow<2.17,>=2.16->tf_keras)\n",
      "  Downloading keras-3.4.1-py3-none-any.whl.metadata (5.8 kB)\n",
      "Collecting tensorflow-io-gcs-filesystem>=0.23.1 (from tensorflow<2.17,>=2.16->tf_keras)\n",
      "  Downloading tensorflow_io_gcs_filesystem-0.37.1-cp310-cp310-manylinux_2_17_x86_64.manylinux2014_x86_64.whl.metadata (14 kB)\n",
      "Requirement already satisfied: numpy<2.0.0,>=1.23.5 in /opt/conda/lib/python3.10/site-packages (from tensorflow<2.17,>=2.16->tf_keras) (1.26.3)\n",
      "Requirement already satisfied: wheel<1.0,>=0.23.0 in /opt/conda/lib/python3.10/site-packages (from astunparse>=1.6.0->tensorflow<2.17,>=2.16->tf_keras) (0.41.2)\n",
      "Collecting rich (from keras>=3.0.0->tensorflow<2.17,>=2.16->tf_keras)\n",
      "  Downloading rich-13.7.1-py3-none-any.whl.metadata (18 kB)\n",
      "Collecting namex (from keras>=3.0.0->tensorflow<2.17,>=2.16->tf_keras)\n",
      "  Downloading namex-0.0.8-py3-none-any.whl.metadata (246 bytes)\n",
      "Requirement already satisfied: optree in /opt/conda/lib/python3.10/site-packages (from keras>=3.0.0->tensorflow<2.17,>=2.16->tf_keras) (0.10.0)\n",
      "Requirement already satisfied: charset-normalizer<4,>=2 in /opt/conda/lib/python3.10/site-packages (from requests<3,>=2.21.0->tensorflow<2.17,>=2.16->tf_keras) (2.0.4)\n",
      "Requirement already satisfied: idna<4,>=2.5 in /opt/conda/lib/python3.10/site-packages (from requests<3,>=2.21.0->tensorflow<2.17,>=2.16->tf_keras) (3.4)\n",
      "Requirement already satisfied: urllib3<3,>=1.21.1 in /opt/conda/lib/python3.10/site-packages (from requests<3,>=2.21.0->tensorflow<2.17,>=2.16->tf_keras) (1.26.18)\n",
      "Requirement already satisfied: certifi>=2017.4.17 in /opt/conda/lib/python3.10/site-packages (from requests<3,>=2.21.0->tensorflow<2.17,>=2.16->tf_keras) (2023.11.17)\n",
      "Collecting markdown>=2.6.8 (from tensorboard<2.17,>=2.16->tensorflow<2.17,>=2.16->tf_keras)\n",
      "  Downloading Markdown-3.6-py3-none-any.whl.metadata (7.0 kB)\n",
      "Collecting tensorboard-data-server<0.8.0,>=0.7.0 (from tensorboard<2.17,>=2.16->tensorflow<2.17,>=2.16->tf_keras)\n",
      "  Downloading tensorboard_data_server-0.7.2-py3-none-manylinux_2_31_x86_64.whl.metadata (1.1 kB)\n",
      "Collecting werkzeug>=1.0.1 (from tensorboard<2.17,>=2.16->tensorflow<2.17,>=2.16->tf_keras)\n",
      "  Downloading werkzeug-3.0.3-py3-none-any.whl.metadata (3.7 kB)\n",
      "Requirement already satisfied: MarkupSafe>=2.1.1 in /opt/conda/lib/python3.10/site-packages (from werkzeug>=1.0.1->tensorboard<2.17,>=2.16->tensorflow<2.17,>=2.16->tf_keras) (2.1.3)\n",
      "Collecting markdown-it-py>=2.2.0 (from rich->keras>=3.0.0->tensorflow<2.17,>=2.16->tf_keras)\n",
      "  Downloading markdown_it_py-3.0.0-py3-none-any.whl.metadata (6.9 kB)\n",
      "Requirement already satisfied: pygments<3.0.0,>=2.13.0 in /opt/conda/lib/python3.10/site-packages (from rich->keras>=3.0.0->tensorflow<2.17,>=2.16->tf_keras) (2.15.1)\n",
      "Collecting mdurl~=0.1 (from markdown-it-py>=2.2.0->rich->keras>=3.0.0->tensorflow<2.17,>=2.16->tf_keras)\n",
      "  Downloading mdurl-0.1.2-py3-none-any.whl.metadata (1.6 kB)\n",
      "Downloading tf_keras-2.16.0-py3-none-any.whl (1.7 MB)\n",
      "\u001b[2K   \u001b[90m━━━━━━━━━━━━━━━━━━━━━━━━━━━━━━━━━━━━━━━━\u001b[0m \u001b[32m1.7/1.7 MB\u001b[0m \u001b[31m5.3 MB/s\u001b[0m eta \u001b[36m0:00:00\u001b[0ma \u001b[36m0:00:01\u001b[0mm\n",
      "\u001b[?25hDownloading tensorflow-2.16.2-cp310-cp310-manylinux_2_17_x86_64.manylinux2014_x86_64.whl (590.6 MB)\n",
      "\u001b[2K   \u001b[90m━━━━━━━━━━━━━━━━━━━━━━━━━━━━━━━━━━━━━━━━\u001b[0m \u001b[32m590.6/590.6 MB\u001b[0m \u001b[31m13.2 MB/s\u001b[0m eta \u001b[36m0:00:00\u001b[0m00:01\u001b[0m00:01\u001b[0m\n",
      "\u001b[?25hDownloading absl_py-2.1.0-py3-none-any.whl (133 kB)\n",
      "\u001b[2K   \u001b[90m━━━━━━━━━━━━━━━━━━━━━━━━━━━━━━━━━━━━━━━━\u001b[0m \u001b[32m133.7/133.7 kB\u001b[0m \u001b[31m13.2 MB/s\u001b[0m eta \u001b[36m0:00:00\u001b[0m\n",
      "\u001b[?25hDownloading flatbuffers-24.3.25-py2.py3-none-any.whl (26 kB)\n",
      "Downloading google_pasta-0.2.0-py3-none-any.whl (57 kB)\n",
      "\u001b[2K   \u001b[90m━━━━━━━━━━━━━━━━━━━━━━━━━━━━━━━━━━━━━━━━\u001b[0m \u001b[32m57.5/57.5 kB\u001b[0m \u001b[31m6.7 MB/s\u001b[0m eta \u001b[36m0:00:00\u001b[0m\n",
      "\u001b[?25hDownloading grpcio-1.64.1-cp310-cp310-manylinux_2_17_x86_64.manylinux2014_x86_64.whl (5.6 MB)\n",
      "\u001b[2K   \u001b[90m━━━━━━━━━━━━━━━━━━━━━━━━━━━━━━━━━━━━━━━━\u001b[0m \u001b[32m5.6/5.6 MB\u001b[0m \u001b[31m83.7 MB/s\u001b[0m eta \u001b[36m0:00:00\u001b[0mta \u001b[36m0:00:01\u001b[0m\n",
      "\u001b[?25hDownloading h5py-3.11.0-cp310-cp310-manylinux_2_17_x86_64.manylinux2014_x86_64.whl (5.3 MB)\n",
      "\u001b[2K   \u001b[90m━━━━━━━━━━━━━━━━━━━━━━━━━━━━━━━━━━━━━━━━\u001b[0m \u001b[32m5.3/5.3 MB\u001b[0m \u001b[31m17.0 MB/s\u001b[0m eta \u001b[36m0:00:00\u001b[0m00:01\u001b[0m00:01\u001b[0mm\n",
      "\u001b[?25hDownloading keras-3.4.1-py3-none-any.whl (1.1 MB)\n",
      "\u001b[2K   \u001b[90m━━━━━━━━━━━━━━━━━━━━━━━━━━━━━━━━━━━━━━━━\u001b[0m \u001b[32m1.1/1.1 MB\u001b[0m \u001b[31m54.9 MB/s\u001b[0m eta \u001b[36m0:00:00\u001b[0m\n",
      "\u001b[?25hDownloading libclang-18.1.1-py2.py3-none-manylinux2010_x86_64.whl (24.5 MB)\n",
      "\u001b[2K   \u001b[90m━━━━━━━━━━━━━━━━━━━━━━━━━━━━━━━━━━━━━━━━\u001b[0m \u001b[32m24.5/24.5 MB\u001b[0m \u001b[31m71.8 MB/s\u001b[0m eta \u001b[36m0:00:00\u001b[0m00:01\u001b[0m:00:01\u001b[0m\n",
      "\u001b[?25hDownloading ml_dtypes-0.3.2-cp310-cp310-manylinux_2_17_x86_64.manylinux2014_x86_64.whl (2.2 MB)\n",
      "\u001b[2K   \u001b[90m━━━━━━━━━━━━━━━━━━━━━━━━━━━━━━━━━━━━━━━━\u001b[0m \u001b[32m2.2/2.2 MB\u001b[0m \u001b[31m80.0 MB/s\u001b[0m eta \u001b[36m0:00:00\u001b[0m\n",
      "\u001b[?25hDownloading opt_einsum-3.3.0-py3-none-any.whl (65 kB)\n",
      "\u001b[2K   \u001b[90m━━━━━━━━━━━━━━━━━━━━━━━━━━━━━━━━━━━━━━━━\u001b[0m \u001b[32m65.5/65.5 kB\u001b[0m \u001b[31m8.9 MB/s\u001b[0m eta \u001b[36m0:00:00\u001b[0m\n",
      "\u001b[?25hDownloading protobuf-4.25.3-cp37-abi3-manylinux2014_x86_64.whl (294 kB)\n",
      "\u001b[2K   \u001b[90m━━━━━━━━━━━━━━━━━━━━━━━━━━━━━━━━━━━━━━━━\u001b[0m \u001b[32m294.6/294.6 kB\u001b[0m \u001b[31m30.2 MB/s\u001b[0m eta \u001b[36m0:00:00\u001b[0m\n",
      "\u001b[?25hDownloading tensorboard-2.16.2-py3-none-any.whl (5.5 MB)\n",
      "\u001b[2K   \u001b[90m━━━━━━━━━━━━━━━━━━━━━━━━━━━━━━━━━━━━━━━━\u001b[0m \u001b[32m5.5/5.5 MB\u001b[0m \u001b[31m85.4 MB/s\u001b[0m eta \u001b[36m0:00:00\u001b[0mta \u001b[36m0:00:01\u001b[0m\n",
      "\u001b[?25hDownloading tensorflow_io_gcs_filesystem-0.37.1-cp310-cp310-manylinux_2_17_x86_64.manylinux2014_x86_64.whl (5.1 MB)\n",
      "\u001b[2K   \u001b[90m━━━━━━━━━━━━━━━━━━━━━━━━━━━━━━━━━━━━━━━━\u001b[0m \u001b[32m5.1/5.1 MB\u001b[0m \u001b[31m82.4 MB/s\u001b[0m eta \u001b[36m0:00:00\u001b[0mta \u001b[36m0:00:01\u001b[0m\n",
      "\u001b[?25hDownloading termcolor-2.4.0-py3-none-any.whl (7.7 kB)\n",
      "Downloading wrapt-1.16.0-cp310-cp310-manylinux_2_5_x86_64.manylinux1_x86_64.manylinux_2_17_x86_64.manylinux2014_x86_64.whl (80 kB)\n",
      "\u001b[2K   \u001b[90m━━━━━━━━━━━━━━━━━━━━━━━━━━━━━━━━━━━━━━━━\u001b[0m \u001b[32m80.3/80.3 kB\u001b[0m \u001b[31m9.5 MB/s\u001b[0m eta \u001b[36m0:00:00\u001b[0m\n",
      "\u001b[?25hDownloading Markdown-3.6-py3-none-any.whl (105 kB)\n",
      "\u001b[2K   \u001b[90m━━━━━━━━━━━━━━━━━━━━━━━━━━━━━━━━━━━━━━━━\u001b[0m \u001b[32m105.4/105.4 kB\u001b[0m \u001b[31m10.1 MB/s\u001b[0m eta \u001b[36m0:00:00\u001b[0m\n",
      "\u001b[?25hDownloading tensorboard_data_server-0.7.2-py3-none-manylinux_2_31_x86_64.whl (6.6 MB)\n",
      "\u001b[2K   \u001b[90m━━━━━━━━━━━━━━━━━━━━━━━━━━━━━━━━━━━━━━━━\u001b[0m \u001b[32m6.6/6.6 MB\u001b[0m \u001b[31m82.5 MB/s\u001b[0m eta \u001b[36m0:00:00\u001b[0m:00:01\u001b[0m00:01\u001b[0m\n",
      "\u001b[?25hDownloading werkzeug-3.0.3-py3-none-any.whl (227 kB)\n",
      "\u001b[2K   \u001b[90m━━━━━━━━━━━━━━━━━━━━━━━━━━━━━━━━━━━━━━━━\u001b[0m \u001b[32m227.3/227.3 kB\u001b[0m \u001b[31m22.3 MB/s\u001b[0m eta \u001b[36m0:00:00\u001b[0m\n",
      "\u001b[?25hDownloading namex-0.0.8-py3-none-any.whl (5.8 kB)\n",
      "Downloading rich-13.7.1-py3-none-any.whl (240 kB)\n",
      "\u001b[2K   \u001b[90m━━━━━━━━━━━━━━━━━━━━━━━━━━━━━━━━━━━━━━━━\u001b[0m \u001b[32m240.7/240.7 kB\u001b[0m \u001b[31m23.7 MB/s\u001b[0m eta \u001b[36m0:00:00\u001b[0m\n",
      "\u001b[?25hDownloading markdown_it_py-3.0.0-py3-none-any.whl (87 kB)\n",
      "\u001b[2K   \u001b[90m━━━━━━━━━━━━━━━━━━━━━━━━━━━━━━━━━━━━━━━━\u001b[0m \u001b[32m87.5/87.5 kB\u001b[0m \u001b[31m8.1 MB/s\u001b[0m eta \u001b[36m0:00:00\u001b[0m\n",
      "\u001b[?25hDownloading mdurl-0.1.2-py3-none-any.whl (10.0 kB)\n",
      "Building wheels for collected packages: gast\n",
      "  Building wheel for gast (setup.py) ... \u001b[?25ldone\n",
      "\u001b[?25h  Created wheel for gast: filename=gast-0.6.0-py3-none-any.whl size=21174 sha256=d8efa8c26dc3f8d5fe86f6e0749f42f06988e87497956dd8452b003af1701192\n",
      "  Stored in directory: /root/.cache/pip/wheels/3a/a9/9d/0f186e9370769486ee16247d7347c7cd48b6cfac94d3f4994e\n",
      "Successfully built gast\n",
      "Installing collected packages: namex, libclang, flatbuffers, wrapt, werkzeug, termcolor, tensorflow-io-gcs-filesystem, tensorboard-data-server, protobuf, opt-einsum, ml-dtypes, mdurl, markdown, h5py, grpcio, google-pasta, gast, absl-py, tensorboard, markdown-it-py, rich, keras, tensorflow, tf_keras\n",
      "Successfully installed absl-py-2.1.0 flatbuffers-24.3.25 gast-0.6.0 google-pasta-0.2.0 grpcio-1.64.1 h5py-3.11.0 keras-3.4.1 libclang-18.1.1 markdown-3.6 markdown-it-py-3.0.0 mdurl-0.1.2 ml-dtypes-0.3.2 namex-0.0.8 opt-einsum-3.3.0 protobuf-4.25.3 rich-13.7.1 tensorboard-2.16.2 tensorboard-data-server-0.7.2 tensorflow-2.16.2 tensorflow-io-gcs-filesystem-0.37.1 termcolor-2.4.0 tf_keras-2.16.0 werkzeug-3.0.3 wrapt-1.16.0\n",
      "\u001b[33mWARNING: Running pip as the 'root' user can result in broken permissions and conflicting behaviour with the system package manager. It is recommended to use a virtual environment instead: https://pip.pypa.io/warnings/venv\u001b[0m\u001b[33m\n",
      "\u001b[0mNote: you may need to restart the kernel to use updated packages.\n"
     ]
    }
   ],
   "source": [
    "pip install tf_keras"
   ]
  },
  {
   "cell_type": "code",
   "execution_count": 2,
   "metadata": {
    "id": "qTfNsCoL52WA"
   },
   "outputs": [
    {
     "name": "stdout",
     "output_type": "stream",
     "text": [
      "Collecting tensorflow-gpu\n",
      "  Using cached tensorflow-gpu-2.12.0.tar.gz (2.6 kB)\n",
      "  Preparing metadata (setup.py) ... \u001b[?25lerror\n",
      "  \u001b[1;31merror\u001b[0m: \u001b[1msubprocess-exited-with-error\u001b[0m\n",
      "  \n",
      "  \u001b[31m×\u001b[0m \u001b[32mpython setup.py egg_info\u001b[0m did not run successfully.\n",
      "  \u001b[31m│\u001b[0m exit code: \u001b[1;36m1\u001b[0m\n",
      "  \u001b[31m╰─>\u001b[0m \u001b[31m[39 lines of output]\u001b[0m\n",
      "  \u001b[31m   \u001b[0m Traceback (most recent call last):\n",
      "  \u001b[31m   \u001b[0m   File \"/opt/conda/lib/python3.10/site-packages/setuptools/_vendor/packaging/requirements.py\", line 35, in __init__\n",
      "  \u001b[31m   \u001b[0m     parsed = _parse_requirement(requirement_string)\n",
      "  \u001b[31m   \u001b[0m   File \"/opt/conda/lib/python3.10/site-packages/setuptools/_vendor/packaging/_parser.py\", line 64, in parse_requirement\n",
      "  \u001b[31m   \u001b[0m     return _parse_requirement(Tokenizer(source, rules=DEFAULT_RULES))\n",
      "  \u001b[31m   \u001b[0m   File \"/opt/conda/lib/python3.10/site-packages/setuptools/_vendor/packaging/_parser.py\", line 82, in _parse_requirement\n",
      "  \u001b[31m   \u001b[0m     url, specifier, marker = _parse_requirement_details(tokenizer)\n",
      "  \u001b[31m   \u001b[0m   File \"/opt/conda/lib/python3.10/site-packages/setuptools/_vendor/packaging/_parser.py\", line 126, in _parse_requirement_details\n",
      "  \u001b[31m   \u001b[0m     marker = _parse_requirement_marker(\n",
      "  \u001b[31m   \u001b[0m   File \"/opt/conda/lib/python3.10/site-packages/setuptools/_vendor/packaging/_parser.py\", line 147, in _parse_requirement_marker\n",
      "  \u001b[31m   \u001b[0m     tokenizer.raise_syntax_error(\n",
      "  \u001b[31m   \u001b[0m   File \"/opt/conda/lib/python3.10/site-packages/setuptools/_vendor/packaging/_tokenizer.py\", line 165, in raise_syntax_error\n",
      "  \u001b[31m   \u001b[0m     raise ParserSyntaxError(\n",
      "  \u001b[31m   \u001b[0m setuptools.extern.packaging._tokenizer.ParserSyntaxError: Expected end or semicolon (after name and no valid version specifier)\n",
      "  \u001b[31m   \u001b[0m     python_version>\"3.7\"\n",
      "  \u001b[31m   \u001b[0m                   ^\n",
      "  \u001b[31m   \u001b[0m \n",
      "  \u001b[31m   \u001b[0m The above exception was the direct cause of the following exception:\n",
      "  \u001b[31m   \u001b[0m \n",
      "  \u001b[31m   \u001b[0m Traceback (most recent call last):\n",
      "  \u001b[31m   \u001b[0m   File \"<string>\", line 2, in <module>\n",
      "  \u001b[31m   \u001b[0m   File \"<pip-setuptools-caller>\", line 34, in <module>\n",
      "  \u001b[31m   \u001b[0m   File \"/tmp/pip-install-r1dpp4zz/tensorflow-gpu_cbe8f2dd561f4b0d98a3459b4a88ef34/setup.py\", line 40, in <module>\n",
      "  \u001b[31m   \u001b[0m     setuptools.setup()\n",
      "  \u001b[31m   \u001b[0m   File \"/opt/conda/lib/python3.10/site-packages/setuptools/__init__.py\", line 102, in setup\n",
      "  \u001b[31m   \u001b[0m     _install_setup_requires(attrs)\n",
      "  \u001b[31m   \u001b[0m   File \"/opt/conda/lib/python3.10/site-packages/setuptools/__init__.py\", line 73, in _install_setup_requires\n",
      "  \u001b[31m   \u001b[0m     dist.parse_config_files(ignore_option_errors=True)\n",
      "  \u001b[31m   \u001b[0m   File \"/opt/conda/lib/python3.10/site-packages/setuptools/dist.py\", line 655, in parse_config_files\n",
      "  \u001b[31m   \u001b[0m     self._finalize_requires()\n",
      "  \u001b[31m   \u001b[0m   File \"/opt/conda/lib/python3.10/site-packages/setuptools/dist.py\", line 390, in _finalize_requires\n",
      "  \u001b[31m   \u001b[0m     self._normalize_requires()\n",
      "  \u001b[31m   \u001b[0m   File \"/opt/conda/lib/python3.10/site-packages/setuptools/dist.py\", line 405, in _normalize_requires\n",
      "  \u001b[31m   \u001b[0m     self.install_requires = list(map(str, _reqs.parse(install_requires)))\n",
      "  \u001b[31m   \u001b[0m   File \"/opt/conda/lib/python3.10/site-packages/setuptools/_vendor/packaging/requirements.py\", line 37, in __init__\n",
      "  \u001b[31m   \u001b[0m     raise InvalidRequirement(str(e)) from e\n",
      "  \u001b[31m   \u001b[0m setuptools.extern.packaging.requirements.InvalidRequirement: Expected end or semicolon (after name and no valid version specifier)\n",
      "  \u001b[31m   \u001b[0m     python_version>\"3.7\"\n",
      "  \u001b[31m   \u001b[0m                   ^\n",
      "  \u001b[31m   \u001b[0m \u001b[31m[end of output]\u001b[0m\n",
      "  \n",
      "  \u001b[1;35mnote\u001b[0m: This error originates from a subprocess, and is likely not a problem with pip.\n",
      "\u001b[1;31merror\u001b[0m: \u001b[1mmetadata-generation-failed\u001b[0m\n",
      "\n",
      "\u001b[31m×\u001b[0m Encountered error while generating package metadata.\n",
      "\u001b[31m╰─>\u001b[0m See above for output.\n",
      "\n",
      "\u001b[1;35mnote\u001b[0m: This is an issue with the package mentioned above, not pip.\n",
      "\u001b[1;36mhint\u001b[0m: See above for details.\n",
      "\u001b[?25h"
     ]
    }
   ],
   "source": [
    "!pip install tensorflow-gpu"
   ]
  },
  {
   "cell_type": "code",
   "execution_count": 4,
   "metadata": {
    "colab": {
     "base_uri": "https://localhost:8080/",
     "height": 759
    },
    "id": "ND-8peK1FNk0",
    "outputId": "b6a26374-9e61-4758-c211-8a33bd750905"
   },
   "outputs": [
    {
     "data": {
      "text/html": [
       "<div>\n",
       "<style scoped>\n",
       "    .dataframe tbody tr th:only-of-type {\n",
       "        vertical-align: middle;\n",
       "    }\n",
       "\n",
       "    .dataframe tbody tr th {\n",
       "        vertical-align: top;\n",
       "    }\n",
       "\n",
       "    .dataframe thead th {\n",
       "        text-align: right;\n",
       "    }\n",
       "</style>\n",
       "<table border=\"1\" class=\"dataframe\">\n",
       "  <thead>\n",
       "    <tr style=\"text-align: right;\">\n",
       "      <th></th>\n",
       "      <th>text1</th>\n",
       "      <th>text2</th>\n",
       "      <th>text3</th>\n",
       "      <th>text4</th>\n",
       "      <th>text5</th>\n",
       "      <th>text6</th>\n",
       "    </tr>\n",
       "  </thead>\n",
       "  <tbody>\n",
       "    <tr>\n",
       "      <th>0</th>\n",
       "      <td>Project Creation of Water Supply and Building ...</td>\n",
       "      <td>None</td>\n",
       "      <td>The construction of the water supply tunnel an...</td>\n",
       "      <td>Construction of the water supply tunnel and an...</td>\n",
       "      <td>Project Brief: Construction of Water Tunnel an...</td>\n",
       "      <td>Geological Strength Index (GSI) Table: Marinos...</td>\n",
       "    </tr>\n",
       "    <tr>\n",
       "      <th>1</th>\n",
       "      <td>Construction of the water tunnel and its assoc...</td>\n",
       "      <td>None</td>\n",
       "      <td>Project Brief for Construction of Dam and Asso...</td>\n",
       "      <td>Tunnel construction for water conveyance and a...</td>\n",
       "      <td>Tunnel construction project, including support...</td>\n",
       "      <td>The Geological Strength Index (GSI) Table by M...</td>\n",
       "    </tr>\n",
       "    <tr>\n",
       "      <th>2</th>\n",
       "      <td>Project Details:\\nCreating and constructing th...</td>\n",
       "      <td>None</td>\n",
       "      <td>The construction of the water supply tunnel an...</td>\n",
       "      <td>Construction of the water tunnel and ancillary...</td>\n",
       "      <td>Project Description:\\nThe construction of a wa...</td>\n",
       "      <td>Geological Strength Index (GSI) Table: Marinos...</td>\n",
       "    </tr>\n",
       "    <tr>\n",
       "      <th>3</th>\n",
       "      <td>Project Details for the Construction of the Wa...</td>\n",
       "      <td>None</td>\n",
       "      <td>The construction of the water supply tunnel an...</td>\n",
       "      <td>Construction of the water supply tunnel and an...</td>\n",
       "      <td>Project Details:\\nCreating the water tunnel an...</td>\n",
       "      <td>Geological Strength Index (GSI) Table: Marinos...</td>\n",
       "    </tr>\n",
       "    <tr>\n",
       "      <th>4</th>\n",
       "      <td>Project Details for the Construction of the Wa...</td>\n",
       "      <td>None</td>\n",
       "      <td>The construction of the water supply tunnel an...</td>\n",
       "      <td>Construction of the water supply tunnel and an...</td>\n",
       "      <td>Project Description:\\nThe construction of the ...</td>\n",
       "      <td>The Geological Strength Index (GSI) Table, as ...</td>\n",
       "    </tr>\n",
       "    <tr>\n",
       "      <th>...</th>\n",
       "      <td>...</td>\n",
       "      <td>...</td>\n",
       "      <td>...</td>\n",
       "      <td>...</td>\n",
       "      <td>...</td>\n",
       "      <td>...</td>\n",
       "    </tr>\n",
       "    <tr>\n",
       "      <th>588</th>\n",
       "      <td>Tunnel construction and related building works...</td>\n",
       "      <td>The construction of the water tunnel and assoc...</td>\n",
       "      <td>Construction of the water supply tunnel and as...</td>\n",
       "      <td>Construction of the water conveyance tunnel an...</td>\n",
       "      <td>Construction of the water conveyance tunnel an...</td>\n",
       "      <td>Geological Strength Index (GSI) Table:\\nMarino...</td>\n",
       "    </tr>\n",
       "    <tr>\n",
       "      <th>589</th>\n",
       "      <td>Tunnel Construction and Associated Building Pr...</td>\n",
       "      <td>The construction project includes a water tunn...</td>\n",
       "      <td>Km: 0+879.50 to 0+881.50, Plan No. RT-GM-MT-01...</td>\n",
       "      <td>Construction of the water tunnel and associate...</td>\n",
       "      <td>Construction of the water conveyance tunnel an...</td>\n",
       "      <td>Geological Strength Index (GSI) Table: Marinos...</td>\n",
       "    </tr>\n",
       "    <tr>\n",
       "      <th>590</th>\n",
       "      <td>The construction of the tunnel and associated ...</td>\n",
       "      <td>The construction of the water tunnel and assoc...</td>\n",
       "      <td>Construction of the water conveyance tunnel an...</td>\n",
       "      <td>Construction of the water tunnel and associate...</td>\n",
       "      <td>Construction of the water conveyance tunnel an...</td>\n",
       "      <td>Geological Strength Index (GSI) Table: Marinos...</td>\n",
       "    </tr>\n",
       "    <tr>\n",
       "      <th>591</th>\n",
       "      <td>Construction of the water conveyance tunnel an...</td>\n",
       "      <td>The construction of the water tunnel and ancil...</td>\n",
       "      <td>Km: 0+883.50 to 0+885.50\\nPlan No. RT-GM-MT-01...</td>\n",
       "      <td>The construction project involves building an ...</td>\n",
       "      <td>Construction of the water conveyance tunnel an...</td>\n",
       "      <td>The Geographical Strength Index (GSI) Table, a...</td>\n",
       "    </tr>\n",
       "    <tr>\n",
       "      <th>592</th>\n",
       "      <td>Tunnel construction and related building works...</td>\n",
       "      <td>The construction project involves building a w...</td>\n",
       "      <td>The construction of the tunnel and the associa...</td>\n",
       "      <td>Construction of the water tunnel and associate...</td>\n",
       "      <td>Construction of the water conveyance tunnel an...</td>\n",
       "      <td>Geological Strength Index (GSI) Table: Marinos...</td>\n",
       "    </tr>\n",
       "  </tbody>\n",
       "</table>\n",
       "<p>593 rows × 6 columns</p>\n",
       "</div>"
      ],
      "text/plain": [
       "                                                 text1  \\\n",
       "0    Project Creation of Water Supply and Building ...   \n",
       "1    Construction of the water tunnel and its assoc...   \n",
       "2    Project Details:\\nCreating and constructing th...   \n",
       "3    Project Details for the Construction of the Wa...   \n",
       "4    Project Details for the Construction of the Wa...   \n",
       "..                                                 ...   \n",
       "588  Tunnel construction and related building works...   \n",
       "589  Tunnel Construction and Associated Building Pr...   \n",
       "590  The construction of the tunnel and associated ...   \n",
       "591  Construction of the water conveyance tunnel an...   \n",
       "592  Tunnel construction and related building works...   \n",
       "\n",
       "                                                 text2  \\\n",
       "0                                                 None   \n",
       "1                                                 None   \n",
       "2                                                 None   \n",
       "3                                                 None   \n",
       "4                                                 None   \n",
       "..                                                 ...   \n",
       "588  The construction of the water tunnel and assoc...   \n",
       "589  The construction project includes a water tunn...   \n",
       "590  The construction of the water tunnel and assoc...   \n",
       "591  The construction of the water tunnel and ancil...   \n",
       "592  The construction project involves building a w...   \n",
       "\n",
       "                                                 text3  \\\n",
       "0    The construction of the water supply tunnel an...   \n",
       "1    Project Brief for Construction of Dam and Asso...   \n",
       "2    The construction of the water supply tunnel an...   \n",
       "3    The construction of the water supply tunnel an...   \n",
       "4    The construction of the water supply tunnel an...   \n",
       "..                                                 ...   \n",
       "588  Construction of the water supply tunnel and as...   \n",
       "589  Km: 0+879.50 to 0+881.50, Plan No. RT-GM-MT-01...   \n",
       "590  Construction of the water conveyance tunnel an...   \n",
       "591  Km: 0+883.50 to 0+885.50\\nPlan No. RT-GM-MT-01...   \n",
       "592  The construction of the tunnel and the associa...   \n",
       "\n",
       "                                                 text4  \\\n",
       "0    Construction of the water supply tunnel and an...   \n",
       "1    Tunnel construction for water conveyance and a...   \n",
       "2    Construction of the water tunnel and ancillary...   \n",
       "3    Construction of the water supply tunnel and an...   \n",
       "4    Construction of the water supply tunnel and an...   \n",
       "..                                                 ...   \n",
       "588  Construction of the water conveyance tunnel an...   \n",
       "589  Construction of the water tunnel and associate...   \n",
       "590  Construction of the water tunnel and associate...   \n",
       "591  The construction project involves building an ...   \n",
       "592  Construction of the water tunnel and associate...   \n",
       "\n",
       "                                                 text5  \\\n",
       "0    Project Brief: Construction of Water Tunnel an...   \n",
       "1    Tunnel construction project, including support...   \n",
       "2    Project Description:\\nThe construction of a wa...   \n",
       "3    Project Details:\\nCreating the water tunnel an...   \n",
       "4    Project Description:\\nThe construction of the ...   \n",
       "..                                                 ...   \n",
       "588  Construction of the water conveyance tunnel an...   \n",
       "589  Construction of the water conveyance tunnel an...   \n",
       "590  Construction of the water conveyance tunnel an...   \n",
       "591  Construction of the water conveyance tunnel an...   \n",
       "592  Construction of the water conveyance tunnel an...   \n",
       "\n",
       "                                                 text6  \n",
       "0    Geological Strength Index (GSI) Table: Marinos...  \n",
       "1    The Geological Strength Index (GSI) Table by M...  \n",
       "2    Geological Strength Index (GSI) Table: Marinos...  \n",
       "3    Geological Strength Index (GSI) Table: Marinos...  \n",
       "4    The Geological Strength Index (GSI) Table, as ...  \n",
       "..                                                 ...  \n",
       "588  Geological Strength Index (GSI) Table:\\nMarino...  \n",
       "589  Geological Strength Index (GSI) Table: Marinos...  \n",
       "590  Geological Strength Index (GSI) Table: Marinos...  \n",
       "591  The Geographical Strength Index (GSI) Table, a...  \n",
       "592  Geological Strength Index (GSI) Table: Marinos...  \n",
       "\n",
       "[593 rows x 6 columns]"
      ]
     },
     "execution_count": 4,
     "metadata": {},
     "output_type": "execute_result"
    }
   ],
   "source": [
    "import pandas as pd\n",
    "import numpy as np\n",
    "\n",
    "file_path = '/workspace/merged_data(csv).csv'\n",
    "df = pd.read_csv(file_path, keep_default_na=False)\n",
    "df.replace('', 'None', inplace=True)\n",
    "df1 = df[['text1', 'text2', 'text3', 'text4', 'text5', 'text6']]\n",
    "df2 = df[['class']]\n",
    "\n",
    "df1\n"
   ]
  },
  {
   "cell_type": "code",
   "execution_count": 5,
   "metadata": {
    "colab": {
     "base_uri": "https://localhost:8080/"
    },
    "id": "HgWOKcJCrZcy",
    "outputId": "10fde189-906b-488d-ad70-47a9aa3b2a02"
   },
   "outputs": [
    {
     "name": "stderr",
     "output_type": "stream",
     "text": [
      "/tmp/ipykernel_737/409419926.py:5: SettingWithCopyWarning: \n",
      "A value is trying to be set on a copy of a slice from a DataFrame.\n",
      "Try using .loc[row_indexer,col_indexer] = value instead\n",
      "\n",
      "See the caveats in the documentation: https://pandas.pydata.org/pandas-docs/stable/user_guide/indexing.html#returning-a-view-versus-a-copy\n",
      "  texts_df['merged_text'] = texts_df.apply(lambda row: ' '.join(row.values.astype(str)), axis=1)\n"
     ]
    }
   ],
   "source": [
    "# Load the data (assuming df1 is already defined as in your code)\n",
    "texts_df = df1\n",
    "\n",
    "# Concatenate columns into single text column\n",
    "texts_df['merged_text'] = texts_df.apply(lambda row: ' '.join(row.values.astype(str)), axis=1)\n",
    "texts = texts_df['merged_text'].tolist()"
   ]
  },
  {
   "cell_type": "code",
   "execution_count": 25,
   "metadata": {
    "colab": {
     "base_uri": "https://localhost:8080/",
     "height": 154
    },
    "id": "ZZskzg5Brbcj",
    "outputId": "9981772a-08f1-4688-e834-1171e5e2e1e4"
   },
   "outputs": [
    {
     "data": {
      "application/vnd.google.colaboratory.intrinsic+json": {
       "type": "string"
      },
      "text/plain": [
       "\"Project Details for the Construction of the Water Conduit and Associated Buildings, Including Additional Components of the Water Conduit from Mae Taeng to Mae Ngat, Contract No. 1 of the Expansion Program, within the Area of the Mae Kwang Dam, Reservoir Division, Chiang Mai Province, under Contract No. GJ.21/2559 (SPD).\\n\\nGeological Mapping of the Water Conduit, Inflow-Outflow, Map Number: RT-GM-ADIT-1-0101-1, Total Length: 0+143.00 km, Starting Point: 0+141.50 km.\\n\\nWater Conduit Characteristics:\\n- Water Conduit Type: Inflow-Outflow, No. 1, Rock Mass Rating (RMR): 60 (II, Good rock), Tunnel Axis Bearing (TAB): 2 (Potential for overbreak), Conduit Length: 73.30 m, Ground Stability Index (GSI): 55-75, Starting Point: 0+141.50 km, Total Length: 0+143.00 km.\\n\\nBlast Time: …20.00 hours, Type of Blast: A-B, Mapping Time: 23.30 hours, Date: 12/08/2560.\\n\\nSymbol: Mr. Marble, Ss Meta-Sandstone, Water, Fault, Gr Biotite granite, Granite St, Meta-Siltstone, Joint Shear, Qtz Quartzite, bedding, Discontinuity Type Dip/Dip direction Spacing Persistence Aperture Infilling Roughness Degree of weathering, Groundwater con. Remark.\\n\\nExplanation of Biotite granite: This is a type of granite with a dark gray color and contains minerals such as biotite, feldspar, and quartz. It is a hard rock (Hard to very hard rock) and is slightly weathered to fresh rock (Slightly weathered to fresh rock). It is found under the ground with a low flow rate of water, less than 10 liters per second.\\n\\nRecommendations for geologists/engineers responsible for the water conduit should consider applying shotcrete, wire mesh, and rock bolts. This should be inspected by................................................ (............./.........../............).\\n\\nBiotite granite should undergo a Break test and approved by................................................... (............./.........../............). The application of these reinforcements should be closely monitored to ensure the desired shape of the tunnel is achieved.\\n\\nRecommendations: \\n______________________________________________________________________________________________________________________________\\nGeologist of the Consulting Company\\n______________________________________________________________________________________________________________________________\\nInspected by....................................... (............./.........../............)\\n______________________________________________________________________________________________________________________________\\nApproved by............................................ (............./.........../............) None Design and construction of the tunnel and the associated buildings, along with other components. The tunnel should have a shape resembling a Chinese dragon, with the head at one end and the tail at the other end. The contract is based on the agreement between the contractor and the owner.\\n\\nThe project is part of the expansion of the water storage area in the Chao Phraya River basin, under the supervision of the Department of Irrigation, Ministry of Agriculture and Cooperatives, with contract number GJ.21/2559 (SPD).\\n\\nThe Rock Mass Rating System (RMR) will be used for the classification of the rock mass, as per Bienniawski (1989).\\n\\nTunnel No. 1\\nDate: 12/08/2560\\nLength: 0+141.50 to 0+143.00\\nMap No. RT-GM-ADIT-1-0101-3\\n\\nRock Description:\\nBiotite Granite, grey, hard rock, slightly weathered to fresh rock.\\n\\n1. Parameters and Rating\\n   - Point Load (MPa): >10\\n   - UCS (MPa): >250\\n\\n1. Rock Quality Designation (RQD) Rating\\n   - 90-100%: 20\\n   - 75-90%: 17\\n   - 50-75%: 13\\n   - 25-50%: 8\\n   - <25%: 3\\n\\n1. Number of discontinuities\\n   - J1: 1\\n   - J2: 2\\n   - J3: 3\\n   - J4: 4\\n   - J5: 5\\n   - F1: Not continuous\\n\\n1. Discontinuity Spacing\\n   - >2 m: 0.6-2 m\\n   - <2 m: <60 mm\\n\\n1. Condition of Discontinuities\\n   - Persistence: <1 m\\n   - Aperture: None\\n   - Roughness: Rough\\n   - Infilling: None\\n   - Weathering: Decompose\\n\\n1. Groundwater Condition\\n   - Dry\\n   - Rating: 10\\n\\n1. Adjustment for tunnel orientation and bedding plane\\n   - Total Rating: 72\\n   - Tunnel and mine: -5 to -12\\n   - Slope: -25 to -50\\n\\n1. Foundation Rating\\n   - 0\\n\\n1. Slope Rating\\n   - -25\\n\\n1. Rock Mass Class\\n   - II\\n\\nGeotechnical Engineer/Engineer of the contractor.\\nReport prepared by………………………………………..................(............./.........../............)\\nChecked by ………………………………………………………………… (............./.........../............)\\nChecked by …………………………………………………..(............./.........../............)\\nApproved by ………………………………………………………………………. (............./.........../............)\\n\\nPlease note that the text has been translated from Thai to English, and some information might have been lost or altered during the translation process. Construction of the water supply tunnel and ancillary buildings, along with other components, Chiang Mai-Mae Taeng Tunnel No. 1 under the 1st contract of the project to increase the water volume in Mae Kwang Udomthara Dam Reservoir, Chiang Mai Province, Contract No. GJ.21/2559 (SPD).\\n\\nTunnel entrance-exit No. 1 for RMT Support Class no. 0101, Date: 12/08/60, from 0+141.50 to 0+143.00, Mapping Time: 11.30 am.\\n\\nTunnel floor level (average) +487.09. Geological face mapping no: RT-GM-ADIT-1-0101-4.\\n\\nRock Mass Types (RMT):\\n\\n1. IMPURE MARBLE, PURE MARBLE\\nRMT: 1F\\nHIGHLY FRACTURED RMT 1\\nBT: 1S\\nFAULTED RMT 1\\n\\nOverburden (m): 2\\n\\n1. BIOTITE GRANITE, GRANITE, MONZOGRANITE, HYBRID GRANITE\\nGroundwater: GRANITE GNEISS, GNEISS\\n\\nOrientation: 2F\\nHIGHLY FRACTURED RMT 2\\n\\n1. S FAULTED RMT 2\\nRMT: 2F\\n3. QUARTZ WACKE, QUARTZ SANDSTONE, META-SANDSTONE\\nBT: 2 (Potential for overbreak)\\nQUARTZITE, META SILTSTONE, CALC-SILICATE ROCKS\\nGSI: 55-75\\n3F\\nHIGHLY FRACTURED RMT 3\\n\\nOverburden (m): 73.30 m.\\n3S\\nFAULTED RMT 3\\n\\nGroundwater: Yes No\\n\\n1. GRAY-COLOUR SHALE, SILTSTONE, MUDSTONE, CLAYSTONE\\nOrientation Dip Direction: 230° dip: 70°\\n4F\\nHIGHLY FRACTURED RMT 4\\nTunnel drive direction: 338°\\n4S\\nFAULTED RMT 4\\n\\nUnfavorable: Favorable\\n\\n1. SCHIST, PHYLLITE, SLATY SHALE\\nRMT: 5F\\nHIGHLY FRACTURED RMT 5\\nBT Description: 5S\\nFAULTED RMT 5\\n1. Stable\\n\\n1. RED-COLOURED MUDSTONE\\n2. Potential for overbreak\\n6F\\nHIGHLY FRACTURED RMT 6\\n3. Shallow stress inducted failure\\n6S\\nFAULTED RMT 6\\n4. Deep reaching shear failure\\n\\n1. RED-COLOURED SANDSTONE AND SILTSTONE\\n5. Rock burst\\n7F\\nHIGHLY FRACTURED RMT 7\\n6. Buckling\\n7S\\nFAULTED RMT 7\\n7. Chimney type\\n\\n1. RED-COLOURED CONGLOMERATE AND PEBBLY\\n8. Revelling ground SANDSTONE OR SUBLITHARENITE\\n8F\\nHIGHLY FRACTURED RMT 8\\n10. Swelling ground\\n8S\\nFAULTED RMT 8\\n11. Heterogeneous ground\\n\\nTunnel entrance-exit Support Class selection table:\\n\\nRMT: 2F\\nSupport Class: A-B\\n\\nOverburden\\nOrientation/Groundwater:\\n0-30 m.\\n30-150 m.\\n>150 m.\\n\\nFavorable/No: A-B A-A A-A\\nFavorable/Yes: A-B A-A A-A\\nUnfavorable/No: A-B A-B A-B\\nUnfavorable/Yes: A-C A-B A-B\\n\\nGeological notes/Engineer's remarks to be explained further: Report by ……………………………………… (............./.........../............)\\n\\nGroundwater: No = Permeable or has a moderate flow at the excavation site (Moderately Flowing) checked by ……………………………………… (............./.........../............)\\n(Has a flow rate less than 10 liters per second)\\nYes = More than a few liters per second at the excavation site (Heavy Flowing)\\n\\nOrientation: Unfavorable = Dip of fault >60° and Strike that opposes the tunnel direction <30°\\n\\nFavorable = Except as defined in Unfavorable, check by ……………………………………… (............./.........../............)\\n\\nApproved by ……………………………………… (............./.........../............) Project Details:\\nTunnel Construction for Water Conduit and Associated Buildings, along with other components. Water Conduit Tunnel Section: Mae Taeng - Mae Ngat, Contract No. 1. Expanding the water storage capacity of Mae Kwan Udomthara Dam, Chiang Mai Province. Contract No.: GJ.21/2559 (SPD). Water Conduit Tunnel, Inlet/Outlet. Date: 12/08/2560. Map Reference: RT-GM-ADIT-1-0101-5. Round: 101. Start Point: 0+141.50. End Point: 0+143.00.\\n\\nOrientation of Discontinuities:\\n\\nDiscontinuity Set (Joint) Details:\\nJoint J1: Dip Angle 70-75°, Dip Direction 060-070°, Spacing 0.2-0.6 m.\\nJoint J2: Dip Angle 70-75°, Dip Direction 130-140°, Spacing 0.2-0.6 m.\\nJoint J3: Dip Angle 70-75°, Dip Direction 220-235°, Spacing 0.2-0.6 m.\\nJoint J4: Dip Angle 70-75°, Dip Direction 300-310°, Spacing 0.2-0.6 m.\\n\\nFault Details:\\nFault J1: Strike 060-070°, Dip 70-75°\\nFault J3: Strike 220-235°, Dip 70-75°\\n\\nSupervised by:...................................................... (............./.........../............)\\nApproved by:............................................................ (............./.........../............)\\nGeologist/Engineer of the Contractor.\\nChecked by:...................................................... (............./.........../............)\\nApproved by:............................................................ (............./.........../............)\\nGeologist of the Consultant. The Geological Strength Index (GSI) Table, as proposed by Marinos and Hoek in 2000, is a method used to estimate the geological strength index of rock masses. The GSI is a numerical value that represents the overall strength of rock masses, taking into account various factors such as rock type, discontinuities, and weathering conditions. The table is used to determine the GSI value based on the visual estimation of rock mass quality. The table consists of several parameters, including:\\n\\n1. Rock type (Ic): The intact strength of the rock material, ranging from 0 (very weak) to 9 (very strong).\\n2. Discontinuity spacing (S): The average distance between discontinuities, ranging from 0.01 (very close) to 5 (very distant).\\n3. Discontinuity condition (Jr): The condition of the discontinuities, ranging from 0 (very poor) to 10 (very good).\\n4. Alteration/weathering (A): The degree of alteration or weathering of the rock, ranging from 0 (very severe) to 8 (unweathered).\\n\\nThe GSI value is calculated using the following formula:\\n\\nGSI = (Ic * (S^0.5) * Jr * A) / 100\\n\\nThe GSI table is widely used in rock mechanics and engineering applications, such as slope stability analysis, tunnel design, and rock blasting. Project Details for the Construction of the Water Conduit and Associated Buildings, Including Additional Components of the Water Conduit from Mae Taeng to Mae Ngat, Contract No. 1 of the Expansion Program, within the Area of the Mae Kwang Dam, Reservoir Division, Chiang Mai Province, under Contract No. GJ.21/2559 (SPD).\\n\\nGeological Mapping of the Water Conduit, Inflow-Outflow, Map Number: RT-GM-ADIT-1-0101-1, Total Length: 0+143.00 km, Starting Point: 0+141.50 km.\\n\\nWater Conduit Characteristics:\\n- Water Conduit Type: Inflow-Outflow, No. 1, Rock Mass Rating (RMR): 60 (II, Good rock), Tunnel Axis Bearing (TAB): 2 (Potential for overbreak), Conduit Length: 73.30 m, Ground Stability Index (GSI): 55-75, Starting Point: 0+141.50 km, Total Length: 0+143.00 km.\\n\\nBlast Time: …20.00 hours, Type of Blast: A-B, Mapping Time: 23.30 hours, Date: 12/08/2560.\\n\\nSymbol: Mr. Marble, Ss Meta-Sandstone, Water, Fault, Gr Biotite granite, Granite St, Meta-Siltstone, Joint Shear, Qtz Quartzite, bedding, Discontinuity Type Dip/Dip direction Spacing Persistence Aperture Infilling Roughness Degree of weathering, Groundwater con. Remark.\\n\\nExplanation of Biotite granite: This is a type of granite with a dark gray color and contains minerals such as biotite, feldspar, and quartz. It is a hard rock (Hard to very hard rock) and is slightly weathered to fresh rock (Slightly weathered to fresh rock). It is found under the ground with a low flow rate of water, less than 10 liters per second.\\n\\nRecommendations for geologists/engineers responsible for the water conduit should consider applying shotcrete, wire mesh, and rock bolts. This should be inspected by................................................ (............./.........../............).\\n\\nBiotite granite should undergo a Break test and approved by................................................... (............./.........../............). The application of these reinforcements should be closely monitored to ensure the desired shape of the tunnel is achieved.\\n\\nRecommendations: \\n______________________________________________________________________________________________________________________________\\nGeologist of the Consulting Company\\n______________________________________________________________________________________________________________________________\\nInspected by....................................... (............./.........../............)\\n______________________________________________________________________________________________________________________________\\nApproved by............................................ (............./.........../............) None Design and construction of the tunnel and the associated buildings, along with other components. The tunnel should have a shape resembling a Chinese dragon, with the head at one end and the tail at the other end. The contract is based on the agreement between the contractor and the owner.\\n\\nThe project is part of the expansion of the water storage area in the Chao Phraya River basin, under the supervision of the Department of Irrigation, Ministry of Agriculture and Cooperatives, with contract number GJ.21/2559 (SPD).\\n\\nThe Rock Mass Rating System (RMR) will be used for the classification of the rock mass, as per Bienniawski (1989).\\n\\nTunnel No. 1\\nDate: 12/08/2560\\nLength: 0+141.50 to 0+143.00\\nMap No. RT-GM-ADIT-1-0101-3\\n\\nRock Description:\\nBiotite Granite, grey, hard rock, slightly weathered to fresh rock.\\n\\n1. Parameters and Rating\\n   - Point Load (MPa): >10\\n   - UCS (MPa): >250\\n\\n1. Rock Quality Designation (RQD) Rating\\n   - 90-100%: 20\\n   - 75-90%: 17\\n   - 50-75%: 13\\n   - 25-50%: 8\\n   - <25%: 3\\n\\n1. Number of discontinuities\\n   - J1: 1\\n   - J2: 2\\n   - J3: 3\\n   - J4: 4\\n   - J5: 5\\n   - F1: Not continuous\\n\\n1. Discontinuity Spacing\\n   - >2 m: 0.6-2 m\\n   - <2 m: <60 mm\\n\\n1. Condition of Discontinuities\\n   - Persistence: <1 m\\n   - Aperture: None\\n   - Roughness: Rough\\n   - Infilling: None\\n   - Weathering: Decompose\\n\\n1. Groundwater Condition\\n   - Dry\\n   - Rating: 10\\n\\n1. Adjustment for tunnel orientation and bedding plane\\n   - Total Rating: 72\\n   - Tunnel and mine: -5 to -12\\n   - Slope: -25 to -50\\n\\n1. Foundation Rating\\n   - 0\\n\\n1. Slope Rating\\n   - -25\\n\\n1. Rock Mass Class\\n   - II\\n\\nGeotechnical Engineer/Engineer of the contractor.\\nReport prepared by………………………………………..................(............./.........../............)\\nChecked by ………………………………………………………………… (............./.........../............)\\nChecked by …………………………………………………..(............./.........../............)\\nApproved by ………………………………………………………………………. (............./.........../............)\\n\\nPlease note that the text has been translated from Thai to English, and some information might have been lost or altered during the translation process. Construction of the water supply tunnel and ancillary buildings, along with other components, Chiang Mai-Mae Taeng Tunnel No. 1 under the 1st contract of the project to increase the water volume in Mae Kwang Udomthara Dam Reservoir, Chiang Mai Province, Contract No. GJ.21/2559 (SPD).\\n\\nTunnel entrance-exit No. 1 for RMT Support Class no. 0101, Date: 12/08/60, from 0+141.50 to 0+143.00, Mapping Time: 11.30 am.\\n\\nTunnel floor level (average) +487.09. Geological face mapping no: RT-GM-ADIT-1-0101-4.\\n\\nRock Mass Types (RMT):\\n\\n1. IMPURE MARBLE, PURE MARBLE\\nRMT: 1F\\nHIGHLY FRACTURED RMT 1\\nBT: 1S\\nFAULTED RMT 1\\n\\nOverburden (m): 2\\n\\n1. BIOTITE GRANITE, GRANITE, MONZOGRANITE, HYBRID GRANITE\\nGroundwater: GRANITE GNEISS, GNEISS\\n\\nOrientation: 2F\\nHIGHLY FRACTURED RMT 2\\n\\n1. S FAULTED RMT 2\\nRMT: 2F\\n3. QUARTZ WACKE, QUARTZ SANDSTONE, META-SANDSTONE\\nBT: 2 (Potential for overbreak)\\nQUARTZITE, META SILTSTONE, CALC-SILICATE ROCKS\\nGSI: 55-75\\n3F\\nHIGHLY FRACTURED RMT 3\\n\\nOverburden (m): 73.30 m.\\n3S\\nFAULTED RMT 3\\n\\nGroundwater: Yes No\\n\\n1. GRAY-COLOUR SHALE, SILTSTONE, MUDSTONE, CLAYSTONE\\nOrientation Dip Direction: 230° dip: 70°\\n4F\\nHIGHLY FRACTURED RMT 4\\nTunnel drive direction: 338°\\n4S\\nFAULTED RMT 4\\n\\nUnfavorable: Favorable\\n\\n1. SCHIST, PHYLLITE, SLATY SHALE\\nRMT: 5F\\nHIGHLY FRACTURED RMT 5\\nBT Description: 5S\\nFAULTED RMT 5\\n1. Stable\\n\\n1. RED-COLOURED MUDSTONE\\n2. Potential for overbreak\\n6F\\nHIGHLY FRACTURED RMT 6\\n3. Shallow stress inducted failure\\n6S\\nFAULTED RMT 6\\n4. Deep reaching shear failure\\n\\n1. RED-COLOURED SANDSTONE AND SILTSTONE\\n5. Rock burst\\n7F\\nHIGHLY FRACTURED RMT 7\\n6. Buckling\\n7S\\nFAULTED RMT 7\\n7. Chimney type\\n\\n1. RED-COLOURED CONGLOMERATE AND PEBBLY\\n8. Revelling ground SANDSTONE OR SUBLITHARENITE\\n8F\\nHIGHLY FRACTURED RMT 8\\n10. Swelling ground\\n8S\\nFAULTED RMT 8\\n11. Heterogeneous ground\\n\\nTunnel entrance-exit Support Class selection table:\\n\\nRMT: 2F\\nSupport Class: A-B\\n\\nOverburden\\nOrientation/Groundwater:\\n0-30 m.\\n30-150 m.\\n>150 m.\\n\\nFavorable/No: A-B A-A A-A\\nFavorable/Yes: A-B A-A A-A\\nUnfavorable/No: A-B A-B A-B\\nUnfavorable/Yes: A-C A-B A-B\\n\\nGeological notes/Engineer's remarks to be explained further: Report by ……………………………………… (............./.........../............)\\n\\nGroundwater: No = Permeable or has a moderate flow at the excavation site (Moderately Flowing) checked by ……………………………………… (............./.........../............)\\n(Has a flow rate less than 10 liters per second)\\nYes = More than a few liters per second at the excavation site (Heavy Flowing)\\n\\nOrientation: Unfavorable = Dip of fault >60° and Strike that opposes the tunnel direction <30°\\n\\nFavorable = Except as defined in Unfavorable, check by ……………………………………… (............./.........../............)\\n\\nApproved by ……………………………………… (............./.........../............) Project Details:\\nTunnel Construction for Water Conduit and Associated Buildings, along with other components. Water Conduit Tunnel Section: Mae Taeng - Mae Ngat, Contract No. 1. Expanding the water storage capacity of Mae Kwan Udomthara Dam, Chiang Mai Province. Contract No.: GJ.21/2559 (SPD). Water Conduit Tunnel, Inlet/Outlet. Date: 12/08/2560. Map Reference: RT-GM-ADIT-1-0101-5. Round: 101. Start Point: 0+141.50. End Point: 0+143.00.\\n\\nOrientation of Discontinuities:\\n\\nDiscontinuity Set (Joint) Details:\\nJoint J1: Dip Angle 70-75°, Dip Direction 060-070°, Spacing 0.2-0.6 m.\\nJoint J2: Dip Angle 70-75°, Dip Direction 130-140°, Spacing 0.2-0.6 m.\\nJoint J3: Dip Angle 70-75°, Dip Direction 220-235°, Spacing 0.2-0.6 m.\\nJoint J4: Dip Angle 70-75°, Dip Direction 300-310°, Spacing 0.2-0.6 m.\\n\\nFault Details:\\nFault J1: Strike 060-070°, Dip 70-75°\\nFault J3: Strike 220-235°, Dip 70-75°\\n\\nSupervised by:...................................................... (............./.........../............)\\nApproved by:............................................................ (............./.........../............)\\nGeologist/Engineer of the Contractor.\\nChecked by:...................................................... (............./.........../............)\\nApproved by:............................................................ (............./.........../............)\\nGeologist of the Consultant. The Geological Strength Index (GSI) Table, as proposed by Marinos and Hoek in 2000, is a method used to estimate the geological strength index of rock masses. The GSI is a numerical value that represents the overall strength of rock masses, taking into account various factors such as rock type, discontinuities, and weathering conditions. The table is used to determine the GSI value based on the visual estimation of rock mass quality. The table consists of several parameters, including:\\n\\n1. Rock type (Ic): The intact strength of the rock material, ranging from 0 (very weak) to 9 (very strong).\\n2. Discontinuity spacing (S): The average distance between discontinuities, ranging from 0.01 (very close) to 5 (very distant).\\n3. Discontinuity condition (Jr): The condition of the discontinuities, ranging from 0 (very poor) to 10 (very good).\\n4. Alteration/weathering (A): The degree of alteration or weathering of the rock, ranging from 0 (very severe) to 8 (unweathered).\\n\\nThe GSI value is calculated using the following formula:\\n\\nGSI = (Ic * (S^0.5) * Jr * A) / 100\\n\\nThe GSI table is widely used in rock mechanics and engineering applications, such as slope stability analysis, tunnel design, and rock blasting. Project Details for the Construction of the Water Conduit and Associated Buildings, Including Additional Components of the Water Conduit from Mae Taeng to Mae Ngat, Contract No. 1 of the Expansion Program, within the Area of the Mae Kwang Dam, Reservoir Division, Chiang Mai Province, under Contract No. GJ.21/2559 (SPD).\\n\\nGeological Mapping of the Water Conduit, Inflow-Outflow, Map Number: RT-GM-ADIT-1-0101-1, Total Length: 0+143.00 km, Starting Point: 0+141.50 km.\\n\\nWater Conduit Characteristics:\\n- Water Conduit Type: Inflow-Outflow, No. 1, Rock Mass Rating (RMR): 60 (II, Good rock), Tunnel Axis Bearing (TAB): 2 (Potential for overbreak), Conduit Length: 73.30 m, Ground Stability Index (GSI): 55-75, Starting Point: 0+141.50 km, Total Length: 0+143.00 km.\\n\\nBlast Time: …20.00 hours, Type of Blast: A-B, Mapping Time: 23.30 hours, Date: 12/08/2560.\\n\\nSymbol: Mr. Marble, Ss Meta-Sandstone, Water, Fault, Gr Biotite granite, Granite St, Meta-Siltstone, Joint Shear, Qtz Quartzite, bedding, Discontinuity Type Dip/Dip direction Spacing Persistence Aperture Infilling Roughness Degree of weathering, Groundwater con. Remark.\\n\\nExplanation of Biotite granite: This is a type of granite with a dark gray color and contains minerals such as biotite, feldspar, and quartz. It is a hard rock (Hard to very hard rock) and is slightly weathered to fresh rock (Slightly weathered to fresh rock). It is found under the ground with a low flow rate of water, less than 10 liters per second.\\n\\nRecommendations for geologists/engineers responsible for the water conduit should consider applying shotcrete, wire mesh, and rock bolts. This should be inspected by................................................ (............./.........../............).\\n\\nBiotite granite should undergo a Break test and approved by................................................... (............./.........../............). The application of these reinforcements should be closely monitored to ensure the desired shape of the tunnel is achieved.\\n\\nRecommendations: \\n______________________________________________________________________________________________________________________________\\nGeologist of the Consulting Company\\n______________________________________________________________________________________________________________________________\\nInspected by....................................... (............./.........../............)\\n______________________________________________________________________________________________________________________________\\nApproved by............................................ (............./.........../............) None Design and construction of the tunnel and the associated buildings, along with other components. The tunnel should have a shape resembling a Chinese dragon, with the head at one end and the tail at the other end. The contract is based on the agreement between the contractor and the owner.\\n\\nThe project is part of the expansion of the water storage area in the Chao Phraya River basin, under the supervision of the Department of Irrigation, Ministry of Agriculture and Cooperatives, with contract number GJ.21/2559 (SPD).\\n\\nThe Rock Mass Rating System (RMR) will be used for the classification of the rock mass, as per Bienniawski (1989).\\n\\nTunnel No. 1\\nDate: 12/08/2560\\nLength: 0+141.50 to 0+143.00\\nMap No. RT-GM-ADIT-1-0101-3\\n\\nRock Description:\\nBiotite Granite, grey, hard rock, slightly weathered to fresh rock.\\n\\n1. Parameters and Rating\\n   - Point Load (MPa): >10\\n   - UCS (MPa): >250\\n\\n1. Rock Quality Designation (RQD) Rating\\n   - 90-100%: 20\\n   - 75-90%: 17\\n   - 50-75%: 13\\n   - 25-50%: 8\\n   - <25%: 3\\n\\n1. Number of discontinuities\\n   - J1: 1\\n   - J2: 2\\n   - J3: 3\\n   - J4: 4\\n   - J5: 5\\n   - F1: Not continuous\\n\\n1. Discontinuity Spacing\\n   - >2 m: 0.6-2 m\\n   - <2 m: <60 mm\\n\\n1. Condition of Discontinuities\\n   - Persistence: <1 m\\n   - Aperture: None\\n   - Roughness: Rough\\n   - Infilling: None\\n   - Weathering: Decompose\\n\\n1. Groundwater Condition\\n   - Dry\\n   - Rating: 10\\n\\n1. Adjustment for tunnel orientation and bedding plane\\n   - Total Rating: 72\\n   - Tunnel and mine: -5 to -12\\n   - Slope: -25 to -50\\n\\n1. Foundation Rating\\n   - 0\\n\\n1. Slope Rating\\n   - -25\\n\\n1. Rock Mass Class\\n   - II\\n\\nGeotechnical Engineer/Engineer of the contractor.\\nReport prepared by………………………………………..................(............./.........../............)\\nChecked by ………………………………………………………………… (............./.........../............)\\nChecked by …………………………………………………..(............./.........../............)\\nApproved by ………………………………………………………………………. (............./.........../............)\\n\\nPlease note that the text has been translated from Thai to English, and some information might have been lost or altered during the translation process. Construction of the water supply tunnel and ancillary buildings, along with other components, Chiang Mai-Mae Taeng Tunnel No. 1 under the 1st contract of the project to increase the water volume in Mae Kwang Udomthara Dam Reservoir, Chiang Mai Province, Contract No. GJ.21/2559 (SPD).\\n\\nTunnel entrance-exit No. 1 for RMT Support Class no. 0101, Date: 12/08/60, from 0+141.50 to 0+143.00, Mapping Time: 11.30 am.\\n\\nTunnel floor level (average) +487.09. Geological face mapping no: RT-GM-ADIT-1-0101-4.\\n\\nRock Mass Types (RMT):\\n\\n1. IMPURE MARBLE, PURE MARBLE\\nRMT: 1F\\nHIGHLY FRACTURED RMT 1\\nBT: 1S\\nFAULTED RMT 1\\n\\nOverburden (m): 2\\n\\n1. BIOTITE GRANITE, GRANITE, MONZOGRANITE, HYBRID GRANITE\\nGroundwater: GRANITE GNEISS, GNEISS\\n\\nOrientation: 2F\\nHIGHLY FRACTURED RMT 2\\n\\n1. S FAULTED RMT 2\\nRMT: 2F\\n3. QUARTZ WACKE, QUARTZ SANDSTONE, META-SANDSTONE\\nBT: 2 (Potential for overbreak)\\nQUARTZITE, META SILTSTONE, CALC-SILICATE ROCKS\\nGSI: 55-75\\n3F\\nHIGHLY FRACTURED RMT 3\\n\\nOverburden (m): 73.30 m.\\n3S\\nFAULTED RMT 3\\n\\nGroundwater: Yes No\\n\\n1. GRAY-COLOUR SHALE, SILTSTONE, MUDSTONE, CLAYSTONE\\nOrientation Dip Direction: 230° dip: 70°\\n4F\\nHIGHLY FRACTURED RMT 4\\nTunnel drive direction: 338°\\n4S\\nFAULTED RMT 4\\n\\nUnfavorable: Favorable\\n\\n1. SCHIST, PHYLLITE, SLATY SHALE\\nRMT: 5F\\nHIGHLY FRACTURED RMT 5\\nBT Description: 5S\\nFAULTED RMT 5\\n1. Stable\\n\\n1. RED-COLOURED MUDSTONE\\n2. Potential for overbreak\\n6F\\nHIGHLY FRACTURED RMT 6\\n3. Shallow stress inducted failure\\n6S\\nFAULTED RMT 6\\n4. Deep reaching shear failure\\n\\n1. RED-COLOURED SANDSTONE AND SILTSTONE\\n5. Rock burst\\n7F\\nHIGHLY FRACTURED RMT 7\\n6. Buckling\\n7S\\nFAULTED RMT 7\\n7. Chimney type\\n\\n1. RED-COLOURED CONGLOMERATE AND PEBBLY\\n8. Revelling ground SANDSTONE OR SUBLITHARENITE\\n8F\\nHIGHLY FRACTURED RMT 8\\n10. Swelling ground\\n8S\\nFAULTED RMT 8\\n11. Heterogeneous ground\\n\\nTunnel entrance-exit Support Class selection table:\\n\\nRMT: 2F\\nSupport Class: A-B\\n\\nOverburden\\nOrientation/Groundwater:\\n0-30 m.\\n30-150 m.\\n>150 m.\\n\\nFavorable/No: A-B A-A A-A\\nFavorable/Yes: A-B A-A A-A\\nUnfavorable/No: A-B A-B A-B\\nUnfavorable/Yes: A-C A-B A-B\\n\\nGeological notes/Engineer's remarks to be explained further: Report by ……………………………………… (............./.........../............)\\n\\nGroundwater: No = Permeable or has a moderate flow at the excavation site (Moderately Flowing) checked by ……………………………………… (............./.........../............)\\n(Has a flow rate less than 10 liters per second)\\nYes = More than a few liters per second at the excavation site (Heavy Flowing)\\n\\nOrientation: Unfavorable = Dip of fault >60° and Strike that opposes the tunnel direction <30°\\n\\nFavorable = Except as defined in Unfavorable, check by ……………………………………… (............./.........../............)\\n\\nApproved by ……………………………………… (............./.........../............) Project Details:\\nTunnel Construction for Water Conduit and Associated Buildings, along with other components. Water Conduit Tunnel Section: Mae Taeng - Mae Ngat, Contract No. 1. Expanding the water storage capacity of Mae Kwan Udomthara Dam, Chiang Mai Province. Contract No.: GJ.21/2559 (SPD). Water Conduit Tunnel, Inlet/Outlet. Date: 12/08/2560. Map Reference: RT-GM-ADIT-1-0101-5. Round: 101. Start Point: 0+141.50. End Point: 0+143.00.\\n\\nOrientation of Discontinuities:\\n\\nDiscontinuity Set (Joint) Details:\\nJoint J1: Dip Angle 70-75°, Dip Direction 060-070°, Spacing 0.2-0.6 m.\\nJoint J2: Dip Angle 70-75°, Dip Direction 130-140°, Spacing 0.2-0.6 m.\\nJoint J3: Dip Angle 70-75°, Dip Direction 220-235°, Spacing 0.2-0.6 m.\\nJoint J4: Dip Angle 70-75°, Dip Direction 300-310°, Spacing 0.2-0.6 m.\\n\\nFault Details:\\nFault J1: Strike 060-070°, Dip 70-75°\\nFault J3: Strike 220-235°, Dip 70-75°\\n\\nSupervised by:...................................................... (............./.........../............)\\nApproved by:............................................................ (............./.........../............)\\nGeologist/Engineer of the Contractor.\\nChecked by:...................................................... (............./.........../............)\\nApproved by:............................................................ (............./.........../............)\\nGeologist of the Consultant. The Geological Strength Index (GSI) Table, as proposed by Marinos and Hoek in 2000, is a method used to estimate the geological strength index of rock masses. The GSI is a numerical value that represents the overall strength of rock masses, taking into account various factors such as rock type, discontinuities, and weathering conditions. The table is used to determine the GSI value based on the visual estimation of rock mass quality. The table consists of several parameters, including:\\n\\n1. Rock type (Ic): The intact strength of the rock material, ranging from 0 (very weak) to 9 (very strong).\\n2. Discontinuity spacing (S): The average distance between discontinuities, ranging from 0.01 (very close) to 5 (very distant).\\n3. Discontinuity condition (Jr): The condition of the discontinuities, ranging from 0 (very poor) to 10 (very good).\\n4. Alteration/weathering (A): The degree of alteration or weathering of the rock, ranging from 0 (very severe) to 8 (unweathered).\\n\\nThe GSI value is calculated using the following formula:\\n\\nGSI = (Ic * (S^0.5) * Jr * A) / 100\\n\\nThe GSI table is widely used in rock mechanics and engineering applications, such as slope stability analysis, tunnel design, and rock blasting. Project Details for the Construction of the Water Conduit and Associated Buildings, Including Additional Components of the Water Conduit from Mae Taeng to Mae Ngat, Contract No. 1 of the Expansion Program, within the Area of the Mae Kwang Dam, Reservoir Division, Chiang Mai Province, under Contract No. GJ.21/2559 (SPD).\\n\\nGeological Mapping of the Water Conduit, Inflow-Outflow, Map Number: RT-GM-ADIT-1-0101-1, Total Length: 0+143.00 km, Starting Point: 0+141.50 km.\\n\\nWater Conduit Characteristics:\\n- Water Conduit Type: Inflow-Outflow, No. 1, Rock Mass Rating (RMR): 60 (II, Good rock), Tunnel Axis Bearing (TAB): 2 (Potential for overbreak), Conduit Length: 73.30 m, Ground Stability Index (GSI): 55-75, Starting Point: 0+141.50 km, Total Length: 0+143.00 km.\\n\\nBlast Time: …20.00 hours, Type of Blast: A-B, Mapping Time: 23.30 hours, Date: 12/08/2560.\\n\\nSymbol: Mr. Marble, Ss Meta-Sandstone, Water, Fault, Gr Biotite granite, Granite St, Meta-Siltstone, Joint Shear, Qtz Quartzite, bedding, Discontinuity Type Dip/Dip direction Spacing Persistence Aperture Infilling Roughness Degree of weathering, Groundwater con. Remark.\\n\\nExplanation of Biotite granite: This is a type of granite with a dark gray color and contains minerals such as biotite, feldspar, and quartz. It is a hard rock (Hard to very hard rock) and is slightly weathered to fresh rock (Slightly weathered to fresh rock). It is found under the ground with a low flow rate of water, less than 10 liters per second.\\n\\nRecommendations for geologists/engineers responsible for the water conduit should consider applying shotcrete, wire mesh, and rock bolts. This should be inspected by................................................ (............./.........../............).\\n\\nBiotite granite should undergo a Break test and approved by................................................... (............./.........../............). The application of these reinforcements should be closely monitored to ensure the desired shape of the tunnel is achieved.\\n\\nRecommendations: \\n______________________________________________________________________________________________________________________________\\nGeologist of the Consulting Company\\n______________________________________________________________________________________________________________________________\\nInspected by....................................... (............./.........../............)\\n______________________________________________________________________________________________________________________________\\nApproved by............................................ (............./.........../............) None Design and construction of the tunnel and the associated buildings, along with other components. The tunnel should have a shape resembling a Chinese dragon, with the head at one end and the tail at the other end. The contract is based on the agreement between the contractor and the owner.\\n\\nThe project is part of the expansion of the water storage area in the Chao Phraya River basin, under the supervision of the Department of Irrigation, Ministry of Agriculture and Cooperatives, with contract number GJ.21/2559 (SPD).\\n\\nThe Rock Mass Rating System (RMR) will be used for the classification of the rock mass, as per Bienniawski (1989).\\n\\nTunnel No. 1\\nDate: 12/08/2560\\nLength: 0+141.50 to 0+143.00\\nMap No. RT-GM-ADIT-1-0101-3\\n\\nRock Description:\\nBiotite Granite, grey, hard rock, slightly weathered to fresh rock.\\n\\n1. Parameters and Rating\\n   - Point Load (MPa): >10\\n   - UCS (MPa): >250\\n\\n1. Rock Quality Designation (RQD) Rating\\n   - 90-100%: 20\\n   - 75-90%: 17\\n   - 50-75%: 13\\n   - 25-50%: 8\\n   - <25%: 3\\n\\n1. Number of discontinuities\\n   - J1: 1\\n   - J2: 2\\n   - J3: 3\\n   - J4: 4\\n   - J5: 5\\n   - F1: Not continuous\\n\\n1. Discontinuity Spacing\\n   - >2 m: 0.6-2 m\\n   - <2 m: <60 mm\\n\\n1. Condition of Discontinuities\\n   - Persistence: <1 m\\n   - Aperture: None\\n   - Roughness: Rough\\n   - Infilling: None\\n   - Weathering: Decompose\\n\\n1. Groundwater Condition\\n   - Dry\\n   - Rating: 10\\n\\n1. Adjustment for tunnel orientation and bedding plane\\n   - Total Rating: 72\\n   - Tunnel and mine: -5 to -12\\n   - Slope: -25 to -50\\n\\n1. Foundation Rating\\n   - 0\\n\\n1. Slope Rating\\n   - -25\\n\\n1. Rock Mass Class\\n   - II\\n\\nGeotechnical Engineer/Engineer of the contractor.\\nReport prepared by………………………………………..................(............./.........../............)\\nChecked by ………………………………………………………………… (............./.........../............)\\nChecked by …………………………………………………..(............./.........../............)\\nApproved by ………………………………………………………………………. (............./.........../............)\\n\\nPlease note that the text has been translated from Thai to English, and some information might have been lost or altered during the translation process. Construction of the water supply tunnel and ancillary buildings, along with other components, Chiang Mai-Mae Taeng Tunnel No. 1 under the 1st contract of the project to increase the water volume in Mae Kwang Udomthara Dam Reservoir, Chiang Mai Province, Contract No. GJ.21/2559 (SPD).\\n\\nTunnel entrance-exit No. 1 for RMT Support Class no. 0101, Date: 12/08/60, from 0+141.50 to 0+143.00, Mapping Time: 11.30 am.\\n\\nTunnel floor level (average) +487.09. Geological face mapping no: RT-GM-ADIT-1-0101-4.\\n\\nRock Mass Types (RMT):\\n\\n1. IMPURE MARBLE, PURE MARBLE\\nRMT: 1F\\nHIGHLY FRACTURED RMT 1\\nBT: 1S\\nFAULTED RMT 1\\n\\nOverburden (m): 2\\n\\n1. BIOTITE GRANITE, GRANITE, MONZOGRANITE, HYBRID GRANITE\\nGroundwater: GRANITE GNEISS, GNEISS\\n\\nOrientation: 2F\\nHIGHLY FRACTURED RMT 2\\n\\n1. S FAULTED RMT 2\\nRMT: 2F\\n3. QUARTZ WACKE, QUARTZ SANDSTONE, META-SANDSTONE\\nBT: 2 (Potential for overbreak)\\nQUARTZITE, META SILTSTONE, CALC-SILICATE ROCKS\\nGSI: 55-75\\n3F\\nHIGHLY FRACTURED RMT 3\\n\\nOverburden (m): 73.30 m.\\n3S\\nFAULTED RMT 3\\n\\nGroundwater: Yes No\\n\\n1. GRAY-COLOUR SHALE, SILTSTONE, MUDSTONE, CLAYSTONE\\nOrientation Dip Direction: 230° dip: 70°\\n4F\\nHIGHLY FRACTURED RMT 4\\nTunnel drive direction: 338°\\n4S\\nFAULTED RMT 4\\n\\nUnfavorable: Favorable\\n\\n1. SCHIST, PHYLLITE, SLATY SHALE\\nRMT: 5F\\nHIGHLY FRACTURED RMT 5\\nBT Description: 5S\\nFAULTED RMT 5\\n1. Stable\\n\\n1. RED-COLOURED MUDSTONE\\n2. Potential for overbreak\\n6F\\nHIGHLY FRACTURED RMT 6\\n3. Shallow stress inducted failure\\n6S\\nFAULTED RMT 6\\n4. Deep reaching shear failure\\n\\n1. RED-COLOURED SANDSTONE AND SILTSTONE\\n5. Rock burst\\n7F\\nHIGHLY FRACTURED RMT 7\\n6. Buckling\\n7S\\nFAULTED RMT 7\\n7. Chimney type\\n\\n1. RED-COLOURED CONGLOMERATE AND PEBBLY\\n8. Revelling ground SANDSTONE OR SUBLITHARENITE\\n8F\\nHIGHLY FRACTURED RMT 8\\n10. Swelling ground\\n8S\\nFAULTED RMT 8\\n11. Heterogeneous ground\\n\\nTunnel entrance-exit Support Class selection table:\\n\\nRMT: 2F\\nSupport Class: A-B\\n\\nOverburden\\nOrientation/Groundwater:\\n0-30 m.\\n30-150 m.\\n>150 m.\\n\\nFavorable/No: A-B A-A A-A\\nFavorable/Yes: A-B A-A A-A\\nUnfavorable/No: A-B A-B A-B\\nUnfavorable/Yes: A-C A-B A-B\\n\\nGeological notes/Engineer's remarks to be explained further: Report by ……………………………………… (............./.........../............)\\n\\nGroundwater: No = Permeable or has a moderate flow at the excavation site (Moderately Flowing) checked by ……………………………………… (............./.........../............)\\n(Has a flow rate less than 10 liters per second)\\nYes = More than a few liters per second at the excavation site (Heavy Flowing)\\n\\nOrientation: Unfavorable = Dip of fault >60° and Strike that opposes the tunnel direction <30°\\n\\nFavorable = Except as defined in Unfavorable, check by ……………………………………… (............./.........../............)\\n\\nApproved by ……………………………………… (............./.........../............) Project Details:\\nTunnel Construction for Water Conduit and Associated Buildings, along with other components. Water Conduit Tunnel Section: Mae Taeng - Mae Ngat, Contract No. 1. Expanding the water storage capacity of Mae Kwan Udomthara Dam, Chiang Mai Province. Contract No.: GJ.21/2559 (SPD). Water Conduit Tunnel, Inlet/Outlet. Date: 12/08/2560. Map Reference: RT-GM-ADIT-1-0101-5. Round: 101. Start Point: 0+141.50. End Point: 0+143.00.\\n\\nOrientation of Discontinuities:\\n\\nDiscontinuity Set (Joint) Details:\\nJoint J1: Dip Angle 70-75°, Dip Direction 060-070°, Spacing 0.2-0.6 m.\\nJoint J2: Dip Angle 70-75°, Dip Direction 130-140°, Spacing 0.2-0.6 m.\\nJoint J3: Dip Angle 70-75°, Dip Direction 220-235°, Spacing 0.2-0.6 m.\\nJoint J4: Dip Angle 70-75°, Dip Direction 300-310°, Spacing 0.2-0.6 m.\\n\\nFault Details:\\nFault J1: Strike 060-070°, Dip 70-75°\\nFault J3: Strike 220-235°, Dip 70-75°\\n\\nSupervised by:...................................................... (............./.........../............)\\nApproved by:............................................................ (............./.........../............)\\nGeologist/Engineer of the Contractor.\\nChecked by:...................................................... (............./.........../............)\\nApproved by:............................................................ (............./.........../............)\\nGeologist of the Consultant. The Geological Strength Index (GSI) Table, as proposed by Marinos and Hoek in 2000, is a method used to estimate the geological strength index of rock masses. The GSI is a numerical value that represents the overall strength of rock masses, taking into account various factors such as rock type, discontinuities, and weathering conditions. The table is used to determine the GSI value based on the visual estimation of rock mass quality. The table consists of several parameters, including:\\n\\n1. Rock type (Ic): The intact strength of the rock material, ranging from 0 (very weak) to 9 (very strong).\\n2. Discontinuity spacing (S): The average distance between discontinuities, ranging from 0.01 (very close) to 5 (very distant).\\n3. Discontinuity condition (Jr): The condition of the discontinuities, ranging from 0 (very poor) to 10 (very good).\\n4. Alteration/weathering (A): The degree of alteration or weathering of the rock, ranging from 0 (very severe) to 8 (unweathered).\\n\\nThe GSI value is calculated using the following formula:\\n\\nGSI = (Ic * (S^0.5) * Jr * A) / 100\\n\\nThe GSI table is widely used in rock mechanics and engineering applications, such as slope stability analysis, tunnel design, and rock blasting. Project Details for the Construction of the Water Conduit and Associated Buildings, Including Additional Components of the Water Conduit from Mae Taeng to Mae Ngat, Contract No. 1 of the Expansion Program, within the Area of the Mae Kwang Dam, Reservoir Division, Chiang Mai Province, under Contract No. GJ.21/2559 (SPD).\\n\\nGeological Mapping of the Water Conduit, Inflow-Outflow, Map Number: RT-GM-ADIT-1-0101-1, Total Length: 0+143.00 km, Starting Point: 0+141.50 km.\\n\\nWater Conduit Characteristics:\\n- Water Conduit Type: Inflow-Outflow, No. 1, Rock Mass Rating (RMR): 60 (II, Good rock), Tunnel Axis Bearing (TAB): 2 (Potential for overbreak), Conduit Length: 73.30 m, Ground Stability Index (GSI): 55-75, Starting Point: 0+141.50 km, Total Length: 0+143.00 km.\\n\\nBlast Time: …20.00 hours, Type of Blast: A-B, Mapping Time: 23.30 hours, Date: 12/08/2560.\\n\\nSymbol: Mr. Marble, Ss Meta-Sandstone, Water, Fault, Gr Biotite granite, Granite St, Meta-Siltstone, Joint Shear, Qtz Quartzite, bedding, Discontinuity Type Dip/Dip direction Spacing Persistence Aperture Infilling Roughness Degree of weathering, Groundwater con. Remark.\\n\\nExplanation of Biotite granite: This is a type of granite with a dark gray color and contains minerals such as biotite, feldspar, and quartz. It is a hard rock (Hard to very hard rock) and is slightly weathered to fresh rock (Slightly weathered to fresh rock). It is found under the ground with a low flow rate of water, less than 10 liters per second.\\n\\nRecommendations for geologists/engineers responsible for the water conduit should consider applying shotcrete, wire mesh, and rock bolts. This should be inspected by................................................ (............./.........../............).\\n\\nBiotite granite should undergo a Break test and approved by................................................... (............./.........../............). The application of these reinforcements should be closely monitored to ensure the desired shape of the tunnel is achieved.\\n\\nRecommendations: \\n______________________________________________________________________________________________________________________________\\nGeologist of the Consulting Company\\n______________________________________________________________________________________________________________________________\\nInspected by....................................... (............./.........../............)\\n______________________________________________________________________________________________________________________________\\nApproved by............................................ (............./.........../............) None Design and construction of the tunnel and the associated buildings, along with other components. The tunnel should have a shape resembling a Chinese dragon, with the head at one end and the tail at the other end. The contract is based on the agreement between the contractor and the owner.\\n\\nThe project is part of the expansion of the water storage area in the Chao Phraya River basin, under the supervision of the Department of Irrigation, Ministry of Agriculture and Cooperatives, with contract number GJ.21/2559 (SPD).\\n\\nThe Rock Mass Rating System (RMR) will be used for the classification of the rock mass, as per Bienniawski (1989).\\n\\nTunnel No. 1\\nDate: 12/08/2560\\nLength: 0+141.50 to 0+143.00\\nMap No. RT-GM-ADIT-1-0101-3\\n\\nRock Description:\\nBiotite Granite, grey, hard rock, slightly weathered to fresh rock.\\n\\n1. Parameters and Rating\\n   - Point Load (MPa): >10\\n   - UCS (MPa): >250\\n\\n1. Rock Quality Designation (RQD) Rating\\n   - 90-100%: 20\\n   - 75-90%: 17\\n   - 50-75%: 13\\n   - 25-50%: 8\\n   - <25%: 3\\n\\n1. Number of discontinuities\\n   - J1: 1\\n   - J2: 2\\n   - J3: 3\\n   - J4: 4\\n   - J5: 5\\n   - F1: Not continuous\\n\\n1. Discontinuity Spacing\\n   - >2 m: 0.6-2 m\\n   - <2 m: <60 mm\\n\\n1. Condition of Discontinuities\\n   - Persistence: <1 m\\n   - Aperture: None\\n   - Roughness: Rough\\n   - Infilling: None\\n   - Weathering: Decompose\\n\\n1. Groundwater Condition\\n   - Dry\\n   - Rating: 10\\n\\n1. Adjustment for tunnel orientation and bedding plane\\n   - Total Rating: 72\\n   - Tunnel and mine: -5 to -12\\n   - Slope: -25 to -50\\n\\n1. Foundation Rating\\n   - 0\\n\\n1. Slope Rating\\n   - -25\\n\\n1. Rock Mass Class\\n   - II\\n\\nGeotechnical Engineer/Engineer of the contractor.\\nReport prepared by………………………………………..................(............./.........../............)\\nChecked by ………………………………………………………………… (............./.........../............)\\nChecked by …………………………………………………..(............./.........../............)\\nApproved by ………………………………………………………………………. (............./.........../............)\\n\\nPlease note that the text has been translated from Thai to English, and some information might have been lost or altered during the translation process. Construction of the water supply tunnel and ancillary buildings, along with other components, Chiang Mai-Mae Taeng Tunnel No. 1 under the 1st contract of the project to increase the water volume in Mae Kwang Udomthara Dam Reservoir, Chiang Mai Province, Contract No. GJ.21/2559 (SPD).\\n\\nTunnel entrance-exit No. 1 for RMT Support Class no. 0101, Date: 12/08/60, from 0+141.50 to 0+143.00, Mapping Time: 11.30 am.\\n\\nTunnel floor level (average) +487.09. Geological face mapping no: RT-GM-ADIT-1-0101-4.\\n\\nRock Mass Types (RMT):\\n\\n1. IMPURE MARBLE, PURE MARBLE\\nRMT: 1F\\nHIGHLY FRACTURED RMT 1\\nBT: 1S\\nFAULTED RMT 1\\n\\nOverburden (m): 2\\n\\n1. BIOTITE GRANITE, GRANITE, MONZOGRANITE, HYBRID GRANITE\\nGroundwater: GRANITE GNEISS, GNEISS\\n\\nOrientation: 2F\\nHIGHLY FRACTURED RMT 2\\n\\n1. S FAULTED RMT 2\\nRMT: 2F\\n3. QUARTZ WACKE, QUARTZ SANDSTONE, META-SANDSTONE\\nBT: 2 (Potential for overbreak)\\nQUARTZITE, META SILTSTONE, CALC-SILICATE ROCKS\\nGSI: 55-75\\n3F\\nHIGHLY FRACTURED RMT 3\\n\\nOverburden (m): 73.30 m.\\n3S\\nFAULTED RMT 3\\n\\nGroundwater: Yes No\\n\\n1. GRAY-COLOUR SHALE, SILTSTONE, MUDSTONE, CLAYSTONE\\nOrientation Dip Direction: 230° dip: 70°\\n4F\\nHIGHLY FRACTURED RMT 4\\nTunnel drive direction: 338°\\n4S\\nFAULTED RMT 4\\n\\nUnfavorable: Favorable\\n\\n1. SCHIST, PHYLLITE, SLATY SHALE\\nRMT: 5F\\nHIGHLY FRACTURED RMT 5\\nBT Description: 5S\\nFAULTED RMT 5\\n1. Stable\\n\\n1. RED-COLOURED MUDSTONE\\n2. Potential for overbreak\\n6F\\nHIGHLY FRACTURED RMT 6\\n3. Shallow stress inducted failure\\n6S\\nFAULTED RMT 6\\n4. Deep reaching shear failure\\n\\n1. RED-COLOURED SANDSTONE AND SILTSTONE\\n5. Rock burst\\n7F\\nHIGHLY FRACTURED RMT 7\\n6. Buckling\\n7S\\nFAULTED RMT 7\\n7. Chimney type\\n\\n1. RED-COLOURED CONGLOMERATE AND PEBBLY\\n8. Revelling ground SANDSTONE OR SUBLITHARENITE\\n8F\\nHIGHLY FRACTURED RMT 8\\n10. Swelling ground\\n8S\\nFAULTED RMT 8\\n11. Heterogeneous ground\\n\\nTunnel entrance-exit Support Class selection table:\\n\\nRMT: 2F\\nSupport Class: A-B\\n\\nOverburden\\nOrientation/Groundwater:\\n0-30 m.\\n30-150 m.\\n>150 m.\\n\\nFavorable/No: A-B A-A A-A\\nFavorable/Yes: A-B A-A A-A\\nUnfavorable/No: A-B A-B A-B\\nUnfavorable/Yes: A-C A-B A-B\\n\\nGeological notes/Engineer's remarks to be explained further: Report by ……………………………………… (............./.........../............)\\n\\nGroundwater: No = Permeable or has a moderate flow at the excavation site (Moderately Flowing) checked by ……………………………………… (............./.........../............)\\n(Has a flow rate less than 10 liters per second)\\nYes = More than a few liters per second at the excavation site (Heavy Flowing)\\n\\nOrientation: Unfavorable = Dip of fault >60° and Strike that opposes the tunnel direction <30°\\n\\nFavorable = Except as defined in Unfavorable, check by ……………………………………… (............./.........../............)\\n\\nApproved by ……………………………………… (............./.........../............) Project Details:\\nTunnel Construction for Water Conduit and Associated Buildings, along with other components. Water Conduit Tunnel Section: Mae Taeng - Mae Ngat, Contract No. 1. Expanding the water storage capacity of Mae Kwan Udomthara Dam, Chiang Mai Province. Contract No.: GJ.21/2559 (SPD). Water Conduit Tunnel, Inlet/Outlet. Date: 12/08/2560. Map Reference: RT-GM-ADIT-1-0101-5. Round: 101. Start Point: 0+141.50. End Point: 0+143.00.\\n\\nOrientation of Discontinuities:\\n\\nDiscontinuity Set (Joint) Details:\\nJoint J1: Dip Angle 70-75°, Dip Direction 060-070°, Spacing 0.2-0.6 m.\\nJoint J2: Dip Angle 70-75°, Dip Direction 130-140°, Spacing 0.2-0.6 m.\\nJoint J3: Dip Angle 70-75°, Dip Direction 220-235°, Spacing 0.2-0.6 m.\\nJoint J4: Dip Angle 70-75°, Dip Direction 300-310°, Spacing 0.2-0.6 m.\\n\\nFault Details:\\nFault J1: Strike 060-070°, Dip 70-75°\\nFault J3: Strike 220-235°, Dip 70-75°\\n\\nSupervised by:...................................................... (............./.........../............)\\nApproved by:............................................................ (............./.........../............)\\nGeologist/Engineer of the Contractor.\\nChecked by:...................................................... (............./.........../............)\\nApproved by:............................................................ (............./.........../............)\\nGeologist of the Consultant. The Geological Strength Index (GSI) Table, as proposed by Marinos and Hoek in 2000, is a method used to estimate the geological strength index of rock masses. The GSI is a numerical value that represents the overall strength of rock masses, taking into account various factors such as rock type, discontinuities, and weathering conditions. The table is used to determine the GSI value based on the visual estimation of rock mass quality. The table consists of several parameters, including:\\n\\n1. Rock type (Ic): The intact strength of the rock material, ranging from 0 (very weak) to 9 (very strong).\\n2. Discontinuity spacing (S): The average distance between discontinuities, ranging from 0.01 (very close) to 5 (very distant).\\n3. Discontinuity condition (Jr): The condition of the discontinuities, ranging from 0 (very poor) to 10 (very good).\\n4. Alteration/weathering (A): The degree of alteration or weathering of the rock, ranging from 0 (very severe) to 8 (unweathered).\\n\\nThe GSI value is calculated using the following formula:\\n\\nGSI = (Ic * (S^0.5) * Jr * A) / 100\\n\\nThe GSI table is widely used in rock mechanics and engineering applications, such as slope stability analysis, tunnel design, and rock blasting.\""
      ]
     },
     "execution_count": 25,
     "metadata": {},
     "output_type": "execute_result"
    }
   ],
   "source": [
    "text"
   ]
  },
  {
   "cell_type": "code",
   "execution_count": 6,
   "metadata": {
    "colab": {
     "base_uri": "https://localhost:8080/"
    },
    "id": "Uf3kSCOspgFA",
    "outputId": "0dd94081-46c1-4ad7-c186-43418c56c59d"
   },
   "outputs": [
    {
     "name": "stderr",
     "output_type": "stream",
     "text": [
      "2024-07-02 10:12:13.126710: E external/local_xla/xla/stream_executor/cuda/cuda_fft.cc:479] Unable to register cuFFT factory: Attempting to register factory for plugin cuFFT when one has already been registered\n",
      "2024-07-02 10:12:13.148808: E external/local_xla/xla/stream_executor/cuda/cuda_dnn.cc:10575] Unable to register cuDNN factory: Attempting to register factory for plugin cuDNN when one has already been registered\n",
      "2024-07-02 10:12:13.148836: E external/local_xla/xla/stream_executor/cuda/cuda_blas.cc:1442] Unable to register cuBLAS factory: Attempting to register factory for plugin cuBLAS when one has already been registered\n",
      "2024-07-02 10:12:13.162853: I tensorflow/core/platform/cpu_feature_guard.cc:210] This TensorFlow binary is optimized to use available CPU instructions in performance-critical operations.\n",
      "To enable the following instructions: AVX2 FMA, in other operations, rebuild TensorFlow with the appropriate compiler flags.\n",
      "2024-07-02 10:12:14.256886: W tensorflow/compiler/tf2tensorrt/utils/py_utils.cc:38] TF-TRT Warning: Could not find TensorRT\n",
      "/tmp/ipykernel_737/1648833639.py:9: SettingWithCopyWarning: \n",
      "A value is trying to be set on a copy of a slice from a DataFrame.\n",
      "Try using .loc[row_indexer,col_indexer] = value instead\n",
      "\n",
      "See the caveats in the documentation: https://pandas.pydata.org/pandas-docs/stable/user_guide/indexing.html#returning-a-view-versus-a-copy\n",
      "  texts_df['merged_text'] = texts_df.apply(lambda row: ' '.join(row.values.astype(str)), axis=1)\n"
     ]
    },
    {
     "data": {
      "application/vnd.jupyter.widget-view+json": {
       "model_id": "b7691db190df4b93bab3996befebacec",
       "version_major": 2,
       "version_minor": 0
      },
      "text/plain": [
       "tokenizer_config.json:   0%|          | 0.00/48.0 [00:00<?, ?B/s]"
      ]
     },
     "metadata": {},
     "output_type": "display_data"
    },
    {
     "data": {
      "application/vnd.jupyter.widget-view+json": {
       "model_id": "d8c6ee25161740d0879efe53c6b9301a",
       "version_major": 2,
       "version_minor": 0
      },
      "text/plain": [
       "vocab.txt:   0%|          | 0.00/232k [00:00<?, ?B/s]"
      ]
     },
     "metadata": {},
     "output_type": "display_data"
    },
    {
     "data": {
      "application/vnd.jupyter.widget-view+json": {
       "model_id": "233c78b722344060aef6346a5c7f3d10",
       "version_major": 2,
       "version_minor": 0
      },
      "text/plain": [
       "tokenizer.json:   0%|          | 0.00/466k [00:00<?, ?B/s]"
      ]
     },
     "metadata": {},
     "output_type": "display_data"
    },
    {
     "data": {
      "application/vnd.jupyter.widget-view+json": {
       "model_id": "c2a322d4c631463b836b32b1e947a863",
       "version_major": 2,
       "version_minor": 0
      },
      "text/plain": [
       "config.json:   0%|          | 0.00/570 [00:00<?, ?B/s]"
      ]
     },
     "metadata": {},
     "output_type": "display_data"
    },
    {
     "name": "stderr",
     "output_type": "stream",
     "text": [
      "Truncation was not explicitly activated but `max_length` is provided a specific value, please use `truncation=True` to explicitly truncate examples to max length. Defaulting to 'longest_first' truncation strategy. If you encode pairs of sequences (GLUE-style) with the tokenizer you can select this strategy more precisely by providing a specific strategy to `truncation`.\n",
      "/opt/conda/lib/python3.10/site-packages/transformers/tokenization_utils_base.py:2760: FutureWarning: The `pad_to_max_length` argument is deprecated and will be removed in a future version, use `padding=True` or `padding='longest'` to pad to the longest sequence in the batch, or use `padding='max_length'` to pad to a max length. In this case, you can give a specific length with `max_length` (e.g. `max_length=45`) or leave max_length to None to pad to the maximal input size of the model (e.g. 512 for Bert).\n",
      "  warnings.warn(\n",
      "2024-07-02 10:12:20.103684: I tensorflow/core/common_runtime/gpu/gpu_device.cc:1928] Created device /job:localhost/replica:0/task:0/device:GPU:0 with 22287 MB memory:  -> device: 0, name: NVIDIA GeForce RTX 4090, pci bus id: 0000:04:00.0, compute capability: 8.9\n"
     ]
    }
   ],
   "source": [
    "import tensorflow as tf\n",
    "from transformers import BertTokenizer, TFBertModel\n",
    "import pandas as pd\n",
    "\n",
    "# Load the data (assuming df1 is already defined as in your code)\n",
    "texts_df = df1\n",
    "\n",
    "# Concatenate columns into single text column\n",
    "texts_df['merged_text'] = texts_df.apply(lambda row: ' '.join(row.values.astype(str)), axis=1)\n",
    "texts = texts_df['merged_text'].tolist()\n",
    "\n",
    "# Tokenize the input texts\n",
    "tokenizer = BertTokenizer.from_pretrained('bert-base-uncased')\n",
    "input_ids = []\n",
    "\n",
    "for text in texts:\n",
    "    encoded_dict = tokenizer.encode_plus(\n",
    "        text,\n",
    "        max_length=512,\n",
    "        add_special_tokens=True,\n",
    "        pad_to_max_length=True,\n",
    "        return_tensors='tf'\n",
    "    )\n",
    "    input_ids.append(encoded_dict['input_ids'])\n",
    "\n",
    "input_ids = tf.concat(input_ids, axis=0)\n",
    "\n"
   ]
  },
  {
   "cell_type": "code",
   "execution_count": 7,
   "metadata": {
    "colab": {
     "base_uri": "https://localhost:8080/"
    },
    "id": "_vGCatxbuo1T",
    "outputId": "3599dc2c-a54d-4cb1-de16-069dcc41c94c"
   },
   "outputs": [
    {
     "data": {
      "text/plain": [
       "TensorShape([593, 512])"
      ]
     },
     "execution_count": 7,
     "metadata": {},
     "output_type": "execute_result"
    }
   ],
   "source": [
    "input_ids.shape"
   ]
  },
  {
   "cell_type": "code",
   "execution_count": 12,
   "metadata": {
    "colab": {
     "base_uri": "https://localhost:8080/",
     "height": 419
    },
    "id": "lDdOjKsbsZcy",
    "outputId": "fd442b47-6560-4d1b-fa5d-be62d52df5a0"
   },
   "outputs": [
    {
     "data": {
      "text/html": [
       "<div>\n",
       "<style scoped>\n",
       "    .dataframe tbody tr th:only-of-type {\n",
       "        vertical-align: middle;\n",
       "    }\n",
       "\n",
       "    .dataframe tbody tr th {\n",
       "        vertical-align: top;\n",
       "    }\n",
       "\n",
       "    .dataframe thead th {\n",
       "        text-align: right;\n",
       "    }\n",
       "</style>\n",
       "<table border=\"1\" class=\"dataframe\">\n",
       "  <thead>\n",
       "    <tr style=\"text-align: right;\">\n",
       "      <th></th>\n",
       "      <th>ClassEncoded</th>\n",
       "    </tr>\n",
       "  </thead>\n",
       "  <tbody>\n",
       "    <tr>\n",
       "      <th>0</th>\n",
       "      <td>2</td>\n",
       "    </tr>\n",
       "    <tr>\n",
       "      <th>1</th>\n",
       "      <td>1</td>\n",
       "    </tr>\n",
       "    <tr>\n",
       "      <th>2</th>\n",
       "      <td>2</td>\n",
       "    </tr>\n",
       "    <tr>\n",
       "      <th>3</th>\n",
       "      <td>2</td>\n",
       "    </tr>\n",
       "    <tr>\n",
       "      <th>4</th>\n",
       "      <td>2</td>\n",
       "    </tr>\n",
       "    <tr>\n",
       "      <th>...</th>\n",
       "      <td>...</td>\n",
       "    </tr>\n",
       "    <tr>\n",
       "      <th>588</th>\n",
       "      <td>1</td>\n",
       "    </tr>\n",
       "    <tr>\n",
       "      <th>589</th>\n",
       "      <td>1</td>\n",
       "    </tr>\n",
       "    <tr>\n",
       "      <th>590</th>\n",
       "      <td>1</td>\n",
       "    </tr>\n",
       "    <tr>\n",
       "      <th>591</th>\n",
       "      <td>1</td>\n",
       "    </tr>\n",
       "    <tr>\n",
       "      <th>592</th>\n",
       "      <td>1</td>\n",
       "    </tr>\n",
       "  </tbody>\n",
       "</table>\n",
       "<p>593 rows × 1 columns</p>\n",
       "</div>"
      ],
      "text/plain": [
       "     ClassEncoded\n",
       "0               2\n",
       "1               1\n",
       "2               2\n",
       "3               2\n",
       "4               2\n",
       "..            ...\n",
       "588             1\n",
       "589             1\n",
       "590             1\n",
       "591             1\n",
       "592             1\n",
       "\n",
       "[593 rows x 1 columns]"
      ]
     },
     "execution_count": 12,
     "metadata": {},
     "output_type": "execute_result"
    }
   ],
   "source": [
    "from sklearn.preprocessing import LabelEncoder\n",
    "\n",
    "label_encoder = LabelEncoder()\n",
    "df_encoded = df2.copy()\n",
    "df_encoded['ClassEncoded'] = label_encoder.fit_transform(df_encoded['class'])\n",
    "df_encoded.drop(columns=['class'], inplace=True)\n",
    "df_encoded"
   ]
  },
  {
   "cell_type": "code",
   "execution_count": 13,
   "metadata": {
    "id": "qmI4_-NQyj1S"
   },
   "outputs": [],
   "source": [
    "df_numpy = df_encoded.to_numpy()\n",
    "df_numpy\n",
    "#Convert to one-hot encoded categorical data\n",
    "num_classes = 3  # Number of classes\n",
    "labels_categorical = tf.keras.utils.to_categorical(df_numpy, num_classes=num_classes)"
   ]
  },
  {
   "cell_type": "code",
   "execution_count": 14,
   "metadata": {
    "colab": {
     "base_uri": "https://localhost:8080/"
    },
    "id": "JlYeTXDozK0i",
    "outputId": "62a3011c-7483-4876-f248-b68f496229d1"
   },
   "outputs": [
    {
     "data": {
      "text/plain": [
       "(593, 3)"
      ]
     },
     "execution_count": 14,
     "metadata": {},
     "output_type": "execute_result"
    }
   ],
   "source": [
    "labels_categorical.shape"
   ]
  },
  {
   "cell_type": "code",
   "execution_count": null,
   "metadata": {},
   "outputs": [],
   "source": []
  },
  {
   "cell_type": "code",
   "execution_count": null,
   "metadata": {},
   "outputs": [],
   "source": []
  },
  {
   "cell_type": "code",
   "execution_count": 24,
   "metadata": {},
   "outputs": [],
   "source": [
    "input_ids=input_ids.numpy()"
   ]
  },
  {
   "cell_type": "code",
   "execution_count": 25,
   "metadata": {},
   "outputs": [],
   "source": [
    "from sklearn.model_selection import train_test_split\n",
    "input_ids_train, input_ids_test, labels_train, labels_test = train_test_split(\n",
    "    input_ids, labels_categorical, test_size=0.2, random_state=42)"
   ]
  },
  {
   "cell_type": "code",
   "execution_count": 30,
   "metadata": {
    "colab": {
     "base_uri": "https://localhost:8080/",
     "height": 506
    },
    "id": "ZsOeF4AQsFax",
    "outputId": "d9bb2ce8-9328-44b8-dd73-eb7629669ef2"
   },
   "outputs": [
    {
     "name": "stderr",
     "output_type": "stream",
     "text": [
      "Some weights of the PyTorch model were not used when initializing the TF 2.0 model TFBertModel: ['cls.seq_relationship.bias', 'cls.predictions.transform.dense.bias', 'cls.predictions.transform.dense.weight', 'cls.predictions.transform.LayerNorm.bias', 'cls.seq_relationship.weight', 'cls.predictions.transform.LayerNorm.weight', 'cls.predictions.bias']\n",
      "- This IS expected if you are initializing TFBertModel from a PyTorch model trained on another task or with another architecture (e.g. initializing a TFBertForSequenceClassification model from a BertForPreTraining model).\n",
      "- This IS NOT expected if you are initializing TFBertModel from a PyTorch model that you expect to be exactly identical (e.g. initializing a TFBertForSequenceClassification model from a BertForSequenceClassification model).\n",
      "All the weights of TFBertModel were initialized from the PyTorch model.\n",
      "If your task is similar to the task the model of the checkpoint was trained on, you can already use TFBertModel for predictions without further training.\n"
     ]
    },
    {
     "name": "stdout",
     "output_type": "stream",
     "text": [
      "Epoch 1/30\n",
      "24/24 [==============================] - 73s 823ms/step - loss: 0.9736 - accuracy: 0.5612 - val_loss: 0.8172 - val_accuracy: 0.7059\n",
      "Epoch 2/30\n",
      "24/24 [==============================] - 9s 385ms/step - loss: 0.7865 - accuracy: 0.7110 - val_loss: 0.6928 - val_accuracy: 0.7479\n",
      "Epoch 3/30\n",
      "24/24 [==============================] - 9s 383ms/step - loss: 0.6456 - accuracy: 0.7700 - val_loss: 0.6315 - val_accuracy: 0.7563\n",
      "Epoch 4/30\n",
      "24/24 [==============================] - 9s 382ms/step - loss: 0.5747 - accuracy: 0.7996 - val_loss: 0.6235 - val_accuracy: 0.7899\n",
      "Epoch 5/30\n",
      "24/24 [==============================] - 9s 382ms/step - loss: 0.4276 - accuracy: 0.8523 - val_loss: 0.5142 - val_accuracy: 0.8403\n",
      "Epoch 6/30\n",
      "24/24 [==============================] - 9s 383ms/step - loss: 0.3413 - accuracy: 0.8755 - val_loss: 0.5180 - val_accuracy: 0.7983\n",
      "Epoch 7/30\n",
      "24/24 [==============================] - 9s 383ms/step - loss: 0.2400 - accuracy: 0.9114 - val_loss: 0.3639 - val_accuracy: 0.8908\n",
      "Epoch 8/30\n",
      "24/24 [==============================] - 9s 382ms/step - loss: 0.1247 - accuracy: 0.9705 - val_loss: 0.1854 - val_accuracy: 0.9412\n",
      "Epoch 9/30\n",
      "24/24 [==============================] - 9s 381ms/step - loss: 0.1191 - accuracy: 0.9641 - val_loss: 0.1846 - val_accuracy: 0.9412\n",
      "Epoch 10/30\n",
      "24/24 [==============================] - 9s 380ms/step - loss: 0.0690 - accuracy: 0.9852 - val_loss: 0.1644 - val_accuracy: 0.9580\n",
      "Epoch 11/30\n",
      "24/24 [==============================] - 9s 382ms/step - loss: 0.0423 - accuracy: 0.9916 - val_loss: 0.1203 - val_accuracy: 0.9496\n",
      "Epoch 12/30\n",
      "24/24 [==============================] - 9s 381ms/step - loss: 0.0367 - accuracy: 0.9937 - val_loss: 0.0902 - val_accuracy: 0.9664\n",
      "Epoch 13/30\n",
      "24/24 [==============================] - 9s 379ms/step - loss: 0.0348 - accuracy: 0.9895 - val_loss: 0.1164 - val_accuracy: 0.9496\n",
      "Epoch 14/30\n",
      "24/24 [==============================] - 9s 381ms/step - loss: 0.0517 - accuracy: 0.9895 - val_loss: 0.1516 - val_accuracy: 0.9664\n",
      "Epoch 15/30\n",
      "24/24 [==============================] - 9s 380ms/step - loss: 0.0622 - accuracy: 0.9831 - val_loss: 0.1250 - val_accuracy: 0.9664\n",
      "Epoch 16/30\n",
      "24/24 [==============================] - 9s 380ms/step - loss: 0.0361 - accuracy: 0.9937 - val_loss: 0.2088 - val_accuracy: 0.9328\n",
      "Epoch 17/30\n",
      "24/24 [==============================] - 9s 381ms/step - loss: 0.0169 - accuracy: 0.9979 - val_loss: 0.1143 - val_accuracy: 0.9664\n",
      "Epoch 18/30\n",
      "24/24 [==============================] - 9s 380ms/step - loss: 0.0254 - accuracy: 0.9937 - val_loss: 0.1338 - val_accuracy: 0.9580\n",
      "Epoch 19/30\n",
      "24/24 [==============================] - 9s 382ms/step - loss: 0.0305 - accuracy: 0.9895 - val_loss: 0.1620 - val_accuracy: 0.9580\n",
      "Epoch 20/30\n",
      "24/24 [==============================] - 9s 380ms/step - loss: 0.0272 - accuracy: 0.9895 - val_loss: 0.0630 - val_accuracy: 0.9748\n",
      "Epoch 21/30\n",
      "24/24 [==============================] - 9s 378ms/step - loss: 0.0231 - accuracy: 0.9958 - val_loss: 0.0590 - val_accuracy: 0.9832\n",
      "Epoch 22/30\n",
      "24/24 [==============================] - 9s 380ms/step - loss: 0.0139 - accuracy: 0.9958 - val_loss: 0.0998 - val_accuracy: 0.9748\n",
      "Epoch 23/30\n",
      "24/24 [==============================] - 9s 379ms/step - loss: 0.0113 - accuracy: 0.9979 - val_loss: 0.0834 - val_accuracy: 0.9748\n",
      "Epoch 24/30\n",
      "24/24 [==============================] - 9s 380ms/step - loss: 0.0107 - accuracy: 0.9979 - val_loss: 0.0672 - val_accuracy: 0.9748\n",
      "Epoch 25/30\n",
      "24/24 [==============================] - 9s 381ms/step - loss: 0.0067 - accuracy: 0.9979 - val_loss: 0.1545 - val_accuracy: 0.9664\n",
      "Epoch 26/30\n",
      "24/24 [==============================] - 9s 380ms/step - loss: 0.0059 - accuracy: 1.0000 - val_loss: 0.2333 - val_accuracy: 0.9496\n",
      "Epoch 27/30\n",
      "24/24 [==============================] - 9s 380ms/step - loss: 0.0052 - accuracy: 0.9979 - val_loss: 0.0812 - val_accuracy: 0.9664\n",
      "Epoch 28/30\n",
      "24/24 [==============================] - 9s 379ms/step - loss: 0.0052 - accuracy: 0.9979 - val_loss: 0.1390 - val_accuracy: 0.9664\n",
      "Epoch 29/30\n",
      "24/24 [==============================] - 9s 379ms/step - loss: 0.0064 - accuracy: 0.9979 - val_loss: 0.1387 - val_accuracy: 0.9580\n",
      "Epoch 30/30\n",
      "24/24 [==============================] - 9s 379ms/step - loss: 0.0023 - accuracy: 1.0000 - val_loss: 0.1616 - val_accuracy: 0.9580\n",
      "4/4 [==============================] - 1s 183ms/step - loss: 0.1616 - accuracy: 0.9580\n",
      "Accuracy: 0.9579831957817078\n",
      "4/4 [==============================] - 11s 182ms/step\n"
     ]
    },
    {
     "ename": "NameError",
     "evalue": "name 'f1_score' is not defined",
     "output_type": "error",
     "traceback": [
      "\u001b[0;31m---------------------------------------------------------------------------\u001b[0m",
      "\u001b[0;31mNameError\u001b[0m                                 Traceback (most recent call last)",
      "Cell \u001b[0;32mIn[30], line 33\u001b[0m\n\u001b[1;32m     30\u001b[0m true_labels \u001b[38;5;241m=\u001b[39m labels_test\u001b[38;5;241m.\u001b[39margmax(axis\u001b[38;5;241m=\u001b[39m\u001b[38;5;241m1\u001b[39m)\n\u001b[1;32m     32\u001b[0m \u001b[38;5;66;03m# Calculate the F1 score\u001b[39;00m\n\u001b[0;32m---> 33\u001b[0m f1 \u001b[38;5;241m=\u001b[39m \u001b[43mf1_score\u001b[49m(true_labels, predicted_labels, average\u001b[38;5;241m=\u001b[39m\u001b[38;5;124m'\u001b[39m\u001b[38;5;124mweighted\u001b[39m\u001b[38;5;124m'\u001b[39m)\n\u001b[1;32m     34\u001b[0m \u001b[38;5;28mprint\u001b[39m(\u001b[38;5;124mf\u001b[39m\u001b[38;5;124m\"\u001b[39m\u001b[38;5;124mF1 Score: \u001b[39m\u001b[38;5;132;01m{\u001b[39;00mf1\u001b[38;5;132;01m}\u001b[39;00m\u001b[38;5;124m\"\u001b[39m)\n\u001b[1;32m     36\u001b[0m \u001b[38;5;66;03m# Plot the training history\u001b[39;00m\n",
      "\u001b[0;31mNameError\u001b[0m: name 'f1_score' is not defined"
     ]
    }
   ],
   "source": [
    "# Load the BERT model\n",
    "bert_model = TFBertModel.from_pretrained('bert-base-uncased')\n",
    "\n",
    "# Define the MLP model\n",
    "input_ids_layer = tf.keras.layers.Input(shape=(512,), dtype=tf.int32, name='input_ids')\n",
    "\n",
    "bert_output = bert_model(input_ids_layer)[1]\n",
    "dense = tf.keras.layers.Dense(128, activation='relu')(bert_output)\n",
    "dropout = tf.keras.layers.Dropout(0.2)(dense)\n",
    "output = tf.keras.layers.Dense(3, activation='softmax')(dropout) # Assuming 3 classes\n",
    "\n",
    "model = tf.keras.Model(inputs=input_ids_layer, outputs=output)\n",
    "\n",
    "# Compile the model\n",
    "model.compile(optimizer=tf.keras.optimizers.Adam(learning_rate=2e-5),\n",
    "              loss='categorical_crossentropy',\n",
    "              metrics=['accuracy'])\n",
    "\n",
    "# Fit the model with the training data and validate with the testing data\n",
    "history = model.fit(input_ids_train, labels_train, validation_data=(input_ids_test, labels_test),\n",
    "                    batch_size=20, epochs=30)\n",
    "\n",
    "# Evaluate the model to get the accuracy\n",
    "_, accuracy = model.evaluate(input_ids_test, labels_test)\n",
    "print(f\"Accuracy: {accuracy}\")\n",
    "\n",
    "# Predict the labels for the test set\n",
    "predicted_labels = model.predict(input_ids_test)\n",
    "predicted_labels = predicted_labels.argmax(axis=1)\n",
    "true_labels = labels_test.argmax(axis=1)\n",
    "\n",
    "# Calculate the F1 score\n",
    "f1 = f1_score(true_labels, predicted_labels, average='weighted')\n",
    "print(f\"F1 Score: {f1}\")\n",
    "\n",
    "# Plot the training history\n",
    "plt.plot(history.history['accuracy'], label='accuracy')\n",
    "plt.plot(history.history['val_accuracy'], label='val_accuracy')\n",
    "plt.xlabel('Epoch')\n",
    "plt.ylabel('Accuracy')\n",
    "plt.ylim([0, 1])\n",
    "plt.legend(loc='lower right')\n",
    "plt.show()\n",
    "\n",
    "'''\n",
    "# Train the model\n",
    "model.fit(input_ids, labels_categorical, batch_size=20, epochs=100)\n",
    "\n",
    "# Save the model\n",
    "model.save('bert_mlp_model.h5')'''"
   ]
  },
  {
   "cell_type": "code",
   "execution_count": 31,
   "metadata": {},
   "outputs": [
    {
     "name": "stdout",
     "output_type": "stream",
     "text": [
      "4/4 [==============================] - 1s 185ms/step - loss: 0.1616 - accuracy: 0.9580\n",
      "Accuracy: 0.9579831957817078\n",
      "4/4 [==============================] - 1s 180ms/step\n",
      "F1 Score: 0.9577794754265343\n"
     ]
    },
    {
     "data": {
      "image/png": "[encoded data removed]",
      "text/plain": [
       "<Figure size 640x480 with 1 Axes>"
      ]
     },
     "metadata": {},
     "output_type": "display_data"
    }
   ],
   "source": [
    "from sklearn.metrics import f1_score\n",
    "# Evaluate the model to get the accuracy\n",
    "_, accuracy = model.evaluate(input_ids_test, labels_test)\n",
    "print(f\"Accuracy: {accuracy}\")\n",
    "\n",
    "# Predict the labels for the test set\n",
    "predicted_labels = model.predict(input_ids_test)\n",
    "predicted_labels = predicted_labels.argmax(axis=1)\n",
    "true_labels = labels_test.argmax(axis=1)\n",
    "\n",
    "# Calculate the F1 score\n",
    "f1 = f1_score(true_labels, predicted_labels, average='weighted')\n",
    "print(f\"F1 Score: {f1}\")\n",
    "\n",
    "# Plot the training history\n",
    "plt.plot(history.history['accuracy'], label='accuracy')\n",
    "plt.plot(history.history['val_accuracy'], label='val_accuracy')\n",
    "plt.xlabel('Epoch')\n",
    "plt.ylabel('Accuracy')\n",
    "plt.ylim([0, 1])\n",
    "plt.legend(loc='lower right')\n",
    "plt.show()\n"
   ]
  },
  {
   "cell_type": "code",
   "execution_count": 28,
   "metadata": {},
   "outputs": [
    {
     "name": "stdout",
     "output_type": "stream",
     "text": [
      "Collecting matplotlib\n",
      "  Downloading matplotlib-3.9.0-cp310-cp310-manylinux_2_17_x86_64.manylinux2014_x86_64.whl.metadata (11 kB)\n",
      "Collecting contourpy>=1.0.1 (from matplotlib)\n",
      "  Downloading contourpy-1.2.1-cp310-cp310-manylinux_2_17_x86_64.manylinux2014_x86_64.whl.metadata (5.8 kB)\n",
      "Collecting cycler>=0.10 (from matplotlib)\n",
      "  Downloading cycler-0.12.1-py3-none-any.whl.metadata (3.8 kB)\n",
      "Collecting fonttools>=4.22.0 (from matplotlib)\n",
      "  Downloading fonttools-4.53.0-cp310-cp310-manylinux_2_17_x86_64.manylinux2014_x86_64.whl.metadata (162 kB)\n",
      "\u001b[2K     \u001b[90m━━━━━━━━━━━━━━━━━━━━━━━━━━━━━━━━━━━━━━━\u001b[0m \u001b[32m162.2/162.2 kB\u001b[0m \u001b[31m7.2 MB/s\u001b[0m eta \u001b[36m0:00:00\u001b[0m\n",
      "\u001b[?25hCollecting kiwisolver>=1.3.1 (from matplotlib)\n",
      "  Downloading kiwisolver-1.4.5-cp310-cp310-manylinux_2_12_x86_64.manylinux2010_x86_64.whl.metadata (6.4 kB)\n",
      "Requirement already satisfied: numpy>=1.23 in /opt/conda/lib/python3.10/site-packages (from matplotlib) (1.26.3)\n",
      "Requirement already satisfied: packaging>=20.0 in /opt/conda/lib/python3.10/site-packages (from matplotlib) (23.1)\n",
      "Requirement already satisfied: pillow>=8 in /opt/conda/lib/python3.10/site-packages (from matplotlib) (10.0.1)\n",
      "Collecting pyparsing>=2.3.1 (from matplotlib)\n",
      "  Downloading pyparsing-3.1.2-py3-none-any.whl.metadata (5.1 kB)\n",
      "Requirement already satisfied: python-dateutil>=2.7 in /opt/conda/lib/python3.10/site-packages (from matplotlib) (2.9.0.post0)\n",
      "Requirement already satisfied: six>=1.5 in /opt/conda/lib/python3.10/site-packages (from python-dateutil>=2.7->matplotlib) (1.16.0)\n",
      "Downloading matplotlib-3.9.0-cp310-cp310-manylinux_2_17_x86_64.manylinux2014_x86_64.whl (8.3 MB)\n",
      "\u001b[2K   \u001b[90m━━━━━━━━━━━━━━━━━━━━━━━━━━━━━━━━━━━━━━━━\u001b[0m \u001b[32m8.3/8.3 MB\u001b[0m \u001b[31m68.9 MB/s\u001b[0m eta \u001b[36m0:00:00\u001b[0m00:01\u001b[0m00:01\u001b[0m\n",
      "\u001b[?25hDownloading contourpy-1.2.1-cp310-cp310-manylinux_2_17_x86_64.manylinux2014_x86_64.whl (305 kB)\n",
      "\u001b[2K   \u001b[90m━━━━━━━━━━━━━━━━━━━━━━━━━━━━━━━━━━━━━━━━\u001b[0m \u001b[32m305.2/305.2 kB\u001b[0m \u001b[31m2.3 MB/s\u001b[0m eta \u001b[36m0:00:00\u001b[0ma \u001b[36m0:00:01\u001b[0m\n",
      "\u001b[?25hDownloading cycler-0.12.1-py3-none-any.whl (8.3 kB)\n",
      "Downloading fonttools-4.53.0-cp310-cp310-manylinux_2_17_x86_64.manylinux2014_x86_64.whl (4.6 MB)\n",
      "\u001b[2K   \u001b[90m━━━━━━━━━━━━━━━━━━━━━━━━━━━━━━━━━━━━━━━━\u001b[0m \u001b[32m4.6/4.6 MB\u001b[0m \u001b[31m60.8 MB/s\u001b[0m eta \u001b[36m0:00:00\u001b[0m00:01\u001b[0m00:01\u001b[0m\n",
      "\u001b[?25hDownloading kiwisolver-1.4.5-cp310-cp310-manylinux_2_12_x86_64.manylinux2010_x86_64.whl (1.6 MB)\n",
      "\u001b[2K   \u001b[90m━━━━━━━━━━━━━━━━━━━━━━━━━━━━━━━━━━━━━━━━\u001b[0m \u001b[32m1.6/1.6 MB\u001b[0m \u001b[31m59.5 MB/s\u001b[0m eta \u001b[36m0:00:00\u001b[0m\n",
      "\u001b[?25hDownloading pyparsing-3.1.2-py3-none-any.whl (103 kB)\n",
      "\u001b[2K   \u001b[90m━━━━━━━━━━━━━━━━━━━━━━━━━━━━━━━━━━━━━━━━\u001b[0m \u001b[32m103.2/103.2 kB\u001b[0m \u001b[31m11.1 MB/s\u001b[0m eta \u001b[36m0:00:00\u001b[0m\n",
      "\u001b[?25hInstalling collected packages: pyparsing, kiwisolver, fonttools, cycler, contourpy, matplotlib\n",
      "Successfully installed contourpy-1.2.1 cycler-0.12.1 fonttools-4.53.0 kiwisolver-1.4.5 matplotlib-3.9.0 pyparsing-3.1.2\n",
      "\u001b[33mWARNING: Running pip as the 'root' user can result in broken permissions and conflicting behaviour with the system package manager. It is recommended to use a virtual environment instead: https://pip.pypa.io/warnings/venv\u001b[0m\u001b[33m\n",
      "\u001b[0m"
     ]
    }
   ],
   "source": [
    "!pip install matplotlib"
   ]
  },
  {
   "cell_type": "code",
   "execution_count": null,
   "metadata": {
    "colab": {
     "base_uri": "https://localhost:8080/",
     "height": 581
    },
    "id": "9TzhhlKCcxg1",
    "outputId": "c2d64bf4-a798-413e-8b6a-8f72cb1f7821"
   },
   "outputs": [
    {
     "name": "stdout",
     "output_type": "stream",
     "text": [
      "2/2 [==============================] - 0s 4ms/step\n"
     ]
    },
    {
     "data": {
      "image/png": "[encoded data removed]",
      "text/plain": [
       "<Figure size 800x600 with 2 Axes>"
      ]
     },
     "metadata": {},
     "output_type": "display_data"
    }
   ],
   "source": [
    "from sklearn.metrics import confusion_matrix\n",
    "import matplotlib.pyplot as plt\n",
    "import seaborn as sns\n",
    "\n",
    "\n",
    "# Predict the labels for test data\n",
    "predictions = model.predict([testing_x])\n",
    "\n",
    "# Convert predictions to class labels\n",
    "predicted_labels = np.argmax(predictions, axis=1)\n",
    "\n",
    "# Convert true labels to class labels\n",
    "true_labels = np.argmax(testing_y, axis=1)\n",
    "\n",
    "# Create the confusion matrix\n",
    "conf_matrix = confusion_matrix(true_labels, predicted_labels)\n",
    "\n",
    "# Plot the confusion matrix\n",
    "plt.figure(figsize=(8, 6))\n",
    "sns.heatmap(conf_matrix, annot=True, fmt=\"d\", cmap=\"Blues\", xticklabels=['Class 2', 'Class 3', 'Class 4'], yticklabels=['Class 2', 'Class 3', 'Class 4'])\n",
    "plt.xlabel('Predicted Labels')\n",
    "plt.ylabel('True Labels')\n",
    "plt.title('Confusion Matrix')\n",
    "plt.show()\n"
   ]
  },
  {
   "cell_type": "code",
   "execution_count": null,
   "metadata": {
    "colab": {
     "base_uri": "https://localhost:8080/"
    },
    "id": "e_yga9Gmd7hW",
    "outputId": "6d307d22-b128-4a19-8956-54d503550bfb"
   },
   "outputs": [
    {
     "name": "stdout",
     "output_type": "stream",
     "text": [
      "Overall accuracy: 0.8\n"
     ]
    }
   ],
   "source": [
    "# prompt: calculate overall accuracy of above confusion matrix\n",
    "\n",
    "# Calculate overall accuracy\n",
    "accuracy = np.sum(np.diag(conf_matrix)) / np.sum(conf_matrix)\n",
    "\n",
    "# Print the accuracy\n",
    "print(\"Overall accuracy:\", accuracy)\n"
   ]
  }
 ],
 "metadata": {
  "colab": {
   "machine_shape": "hm",
   "provenance": []
  },
  "kernelspec": {
   "display_name": "Python 3 (ipykernel)",
   "language": "python",
   "name": "python3"
  },
  "language_info": {
   "codemirror_mode": {
    "name": "ipython",
    "version": 3
   },
   "file_extension": ".py",
   "mimetype": "text/x-python",
   "name": "python",
   "nbconvert_exporter": "python",
   "pygments_lexer": "ipython3",
   "version": "3.10.13"
  },
  "widgets": {
   "application/vnd.jupyter.widget-state+json": {
    "069e36b18d964dc3b8d732dc10258c75": {
     "model_module": "@jupyter-widgets/base",
     "model_module_version": "1.2.0",
     "model_name": "LayoutModel",
     "state": {
      "_model_module": "@jupyter-widgets/base",
      "_model_module_version": "1.2.0",
      "_model_name": "LayoutModel",
      "_view_count": null,
      "_view_module": "@jupyter-widgets/base",
      "_view_module_version": "1.2.0",
      "_view_name": "LayoutView",
      "align_content": null,
      "align_items": null,
      "align_self": null,
      "border": null,
      "bottom": null,
      "display": null,
      "flex": null,
      "flex_flow": null,
      "grid_area": null,
      "grid_auto_columns": null,
      "grid_auto_flow": null,
      "grid_auto_rows": null,
      "grid_column": null,
      "grid_gap": null,
      "grid_row": null,
      "grid_template_areas": null,
      "grid_template_columns": null,
      "grid_template_rows": null,
      "height": null,
      "justify_content": null,
      "justify_items": null,
      "left": null,
      "margin": null,
      "max_height": null,
      "max_width": null,
      "min_height": null,
      "min_width": null,
      "object_fit": null,
      "object_position": null,
      "order": null,
      "overflow": null,
      "overflow_x": null,
      "overflow_y": null,
      "padding": null,
      "right": null,
      "top": null,
      "visibility": null,
      "width": null
     }
    },
    "665e6bc3c2204a13af536b15a5a3a7c3": {
     "model_module": "@jupyter-widgets/controls",
     "model_module_version": "1.5.0",
     "model_name": "DescriptionStyleModel",
     "state": {
      "_model_module": "@jupyter-widgets/controls",
      "_model_module_version": "1.5.0",
      "_model_name": "DescriptionStyleModel",
      "_view_count": null,
      "_view_module": "@jupyter-widgets/base",
      "_view_module_version": "1.2.0",
      "_view_name": "StyleView",
      "description_width": ""
     }
    },
    "6d9dac2f562a4576addf8556dfca666d": {
     "model_module": "@jupyter-widgets/base",
     "model_module_version": "1.2.0",
     "model_name": "LayoutModel",
     "state": {
      "_model_module": "@jupyter-widgets/base",
      "_model_module_version": "1.2.0",
      "_model_name": "LayoutModel",
      "_view_count": null,
      "_view_module": "@jupyter-widgets/base",
      "_view_module_version": "1.2.0",
      "_view_name": "LayoutView",
      "align_content": null,
      "align_items": null,
      "align_self": null,
      "border": null,
      "bottom": null,
      "display": null,
      "flex": null,
      "flex_flow": null,
      "grid_area": null,
      "grid_auto_columns": null,
      "grid_auto_flow": null,
      "grid_auto_rows": null,
      "grid_column": null,
      "grid_gap": null,
      "grid_row": null,
      "grid_template_areas": null,
      "grid_template_columns": null,
      "grid_template_rows": null,
      "height": null,
      "justify_content": null,
      "justify_items": null,
      "left": null,
      "margin": null,
      "max_height": null,
      "max_width": null,
      "min_height": null,
      "min_width": null,
      "object_fit": null,
      "object_position": null,
      "order": null,
      "overflow": null,
      "overflow_x": null,
      "overflow_y": null,
      "padding": null,
      "right": null,
      "top": null,
      "visibility": null,
      "width": null
     }
    },
    "72a11aedbd804d3692a35b9ccf830154": {
     "model_module": "@jupyter-widgets/controls",
     "model_module_version": "1.5.0",
     "model_name": "DescriptionStyleModel",
     "state": {
      "_model_module": "@jupyter-widgets/controls",
      "_model_module_version": "1.5.0",
      "_model_name": "DescriptionStyleModel",
      "_view_count": null,
      "_view_module": "@jupyter-widgets/base",
      "_view_module_version": "1.2.0",
      "_view_name": "StyleView",
      "description_width": ""
     }
    },
    "95e5a0f934f94089b13500b6587de92c": {
     "model_module": "@jupyter-widgets/controls",
     "model_module_version": "1.5.0",
     "model_name": "HBoxModel",
     "state": {
      "_dom_classes": [],
      "_model_module": "@jupyter-widgets/controls",
      "_model_module_version": "1.5.0",
      "_model_name": "HBoxModel",
      "_view_count": null,
      "_view_module": "@jupyter-widgets/controls",
      "_view_module_version": "1.5.0",
      "_view_name": "HBoxView",
      "box_style": "",
      "children": [
       "IPY_MODEL_f3fe26b78d37428e948690b5faf30890",
       "IPY_MODEL_9a01753e3d8b43ab9e763a1e2a2fc69e",
       "IPY_MODEL_b2cdffebf49d4273ae4d6c5d18926c10"
      ],
      "layout": "IPY_MODEL_f666edc850d04f1f812f367aa0b0fc1f"
     }
    },
    "9a01753e3d8b43ab9e763a1e2a2fc69e": {
     "model_module": "@jupyter-widgets/controls",
     "model_module_version": "1.5.0",
     "model_name": "FloatProgressModel",
     "state": {
      "_dom_classes": [],
      "_model_module": "@jupyter-widgets/controls",
      "_model_module_version": "1.5.0",
      "_model_name": "FloatProgressModel",
      "_view_count": null,
      "_view_module": "@jupyter-widgets/controls",
      "_view_module_version": "1.5.0",
      "_view_name": "ProgressView",
      "bar_style": "success",
      "description": "",
      "description_tooltip": null,
      "layout": "IPY_MODEL_6d9dac2f562a4576addf8556dfca666d",
      "max": 440449768,
      "min": 0,
      "orientation": "horizontal",
      "style": "IPY_MODEL_e19d98905630448eb55f4592d0a38e27",
      "value": 440449768
     }
    },
    "b2cdffebf49d4273ae4d6c5d18926c10": {
     "model_module": "@jupyter-widgets/controls",
     "model_module_version": "1.5.0",
     "model_name": "HTMLModel",
     "state": {
      "_dom_classes": [],
      "_model_module": "@jupyter-widgets/controls",
      "_model_module_version": "1.5.0",
      "_model_name": "HTMLModel",
      "_view_count": null,
      "_view_module": "@jupyter-widgets/controls",
      "_view_module_version": "1.5.0",
      "_view_name": "HTMLView",
      "description": "",
      "description_tooltip": null,
      "layout": "IPY_MODEL_c82a4395936041f0b7ae58825d3fcbc6",
      "placeholder": "​",
      "style": "IPY_MODEL_665e6bc3c2204a13af536b15a5a3a7c3",
      "value": " 440M/440M [00:01&lt;00:00, 307MB/s]"
     }
    },
    "c82a4395936041f0b7ae58825d3fcbc6": {
     "model_module": "@jupyter-widgets/base",
     "model_module_version": "1.2.0",
     "model_name": "LayoutModel",
     "state": {
      "_model_module": "@jupyter-widgets/base",
      "_model_module_version": "1.2.0",
      "_model_name": "LayoutModel",
      "_view_count": null,
      "_view_module": "@jupyter-widgets/base",
      "_view_module_version": "1.2.0",
      "_view_name": "LayoutView",
      "align_content": null,
      "align_items": null,
      "align_self": null,
      "border": null,
      "bottom": null,
      "display": null,
      "flex": null,
      "flex_flow": null,
      "grid_area": null,
      "grid_auto_columns": null,
      "grid_auto_flow": null,
      "grid_auto_rows": null,
      "grid_column": null,
      "grid_gap": null,
      "grid_row": null,
      "grid_template_areas": null,
      "grid_template_columns": null,
      "grid_template_rows": null,
      "height": null,
      "justify_content": null,
      "justify_items": null,
      "left": null,
      "margin": null,
      "max_height": null,
      "max_width": null,
      "min_height": null,
      "min_width": null,
      "object_fit": null,
      "object_position": null,
      "order": null,
      "overflow": null,
      "overflow_x": null,
      "overflow_y": null,
      "padding": null,
      "right": null,
      "top": null,
      "visibility": null,
      "width": null
     }
    },
    "e19d98905630448eb55f4592d0a38e27": {
     "model_module": "@jupyter-widgets/controls",
     "model_module_version": "1.5.0",
     "model_name": "ProgressStyleModel",
     "state": {
      "_model_module": "@jupyter-widgets/controls",
      "_model_module_version": "1.5.0",
      "_model_name": "ProgressStyleModel",
      "_view_count": null,
      "_view_module": "@jupyter-widgets/base",
      "_view_module_version": "1.2.0",
      "_view_name": "StyleView",
      "bar_color": null,
      "description_width": ""
     }
    },
    "f3fe26b78d37428e948690b5faf30890": {
     "model_module": "@jupyter-widgets/controls",
     "model_module_version": "1.5.0",
     "model_name": "HTMLModel",
     "state": {
      "_dom_classes": [],
      "_model_module": "@jupyter-widgets/controls",
      "_model_module_version": "1.5.0",
      "_model_name": "HTMLModel",
      "_view_count": null,
      "_view_module": "@jupyter-widgets/controls",
      "_view_module_version": "1.5.0",
      "_view_name": "HTMLView",
      "description": "",
      "description_tooltip": null,
      "layout": "IPY_MODEL_069e36b18d964dc3b8d732dc10258c75",
      "placeholder": "​",
      "style": "IPY_MODEL_72a11aedbd804d3692a35b9ccf830154",
      "value": "model.safetensors: 100%"
     }
    },
    "f666edc850d04f1f812f367aa0b0fc1f": {
     "model_module": "@jupyter-widgets/base",
     "model_module_version": "1.2.0",
     "model_name": "LayoutModel",
     "state": {
      "_model_module": "@jupyter-widgets/base",
      "_model_module_version": "1.2.0",
      "_model_name": "LayoutModel",
      "_view_count": null,
      "_view_module": "@jupyter-widgets/base",
      "_view_module_version": "1.2.0",
      "_view_name": "LayoutView",
      "align_content": null,
      "align_items": null,
      "align_self": null,
      "border": null,
      "bottom": null,
      "display": null,
      "flex": null,
      "flex_flow": null,
      "grid_area": null,
      "grid_auto_columns": null,
      "grid_auto_flow": null,
      "grid_auto_rows": null,
      "grid_column": null,
      "grid_gap": null,
      "grid_row": null,
      "grid_template_areas": null,
      "grid_template_columns": null,
      "grid_template_rows": null,
      "height": null,
      "justify_content": null,
      "justify_items": null,
      "left": null,
      "margin": null,
      "max_height": null,
      "max_width": null,
      "min_height": null,
      "min_width": null,
      "object_fit": null,
      "object_position": null,
      "order": null,
      "overflow": null,
      "overflow_x": null,
      "overflow_y": null,
      "padding": null,
      "right": null,
      "top": null,
      "visibility": null,
      "width": null
     }
    }
   }
  }
 },
 "nbformat": 4,
 "nbformat_minor": 4
}
